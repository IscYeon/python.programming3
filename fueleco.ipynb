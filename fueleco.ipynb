{
 "cells": [
  {
   "cell_type": "code",
   "execution_count": 1,
   "id": "cd67c790-3044-484a-90e3-f220cfbd465e",
   "metadata": {},
   "outputs": [],
   "source": [
    "import pandas as pd\n",
    "import numpy as np"
   ]
  },
  {
   "cell_type": "code",
   "execution_count": 2,
   "id": "7a35e6d6-ce7f-45d7-b826-0a829a7de1f6",
   "metadata": {},
   "outputs": [
    {
     "name": "stderr",
     "output_type": "stream",
     "text": [
      "C:\\anaconda3\\lib\\site-packages\\IPython\\core\\interactiveshell.py:3165: DtypeWarning: Columns (70,71,72,73,74,76,79) have mixed types.Specify dtype option on import or set low_memory=False.\n",
      "  has_raised = await self.run_ast_nodes(code_ast.body, cell_name,\n"
     ]
    },
    {
     "data": {
      "text/html": [
       "<div>\n",
       "<style scoped>\n",
       "    .dataframe tbody tr th:only-of-type {\n",
       "        vertical-align: middle;\n",
       "    }\n",
       "\n",
       "    .dataframe tbody tr th {\n",
       "        vertical-align: top;\n",
       "    }\n",
       "\n",
       "    .dataframe thead th {\n",
       "        text-align: right;\n",
       "    }\n",
       "</style>\n",
       "<table border=\"1\" class=\"dataframe\">\n",
       "  <thead>\n",
       "    <tr style=\"text-align: right;\">\n",
       "      <th></th>\n",
       "      <th>barrels08</th>\n",
       "      <th>barrelsA08</th>\n",
       "      <th>charge120</th>\n",
       "      <th>charge240</th>\n",
       "      <th>city08</th>\n",
       "      <th>city08U</th>\n",
       "      <th>cityA08</th>\n",
       "      <th>cityA08U</th>\n",
       "      <th>cityCD</th>\n",
       "      <th>cityE</th>\n",
       "      <th>...</th>\n",
       "      <th>mfrCode</th>\n",
       "      <th>c240Dscr</th>\n",
       "      <th>charge240b</th>\n",
       "      <th>c240bDscr</th>\n",
       "      <th>createdOn</th>\n",
       "      <th>modifiedOn</th>\n",
       "      <th>startStop</th>\n",
       "      <th>phevCity</th>\n",
       "      <th>phevHwy</th>\n",
       "      <th>phevComb</th>\n",
       "    </tr>\n",
       "  </thead>\n",
       "  <tbody>\n",
       "    <tr>\n",
       "      <th>0</th>\n",
       "      <td>14.167143</td>\n",
       "      <td>0.0</td>\n",
       "      <td>0.0</td>\n",
       "      <td>0.0</td>\n",
       "      <td>19</td>\n",
       "      <td>0.0</td>\n",
       "      <td>0</td>\n",
       "      <td>0.0</td>\n",
       "      <td>0.0</td>\n",
       "      <td>0.0</td>\n",
       "      <td>...</td>\n",
       "      <td>NaN</td>\n",
       "      <td>NaN</td>\n",
       "      <td>0.0</td>\n",
       "      <td>NaN</td>\n",
       "      <td>Tue Jan 01 00:00:00 EST 2013</td>\n",
       "      <td>Tue Jan 01 00:00:00 EST 2013</td>\n",
       "      <td>NaN</td>\n",
       "      <td>0</td>\n",
       "      <td>0</td>\n",
       "      <td>0</td>\n",
       "    </tr>\n",
       "    <tr>\n",
       "      <th>1</th>\n",
       "      <td>27.046364</td>\n",
       "      <td>0.0</td>\n",
       "      <td>0.0</td>\n",
       "      <td>0.0</td>\n",
       "      <td>9</td>\n",
       "      <td>0.0</td>\n",
       "      <td>0</td>\n",
       "      <td>0.0</td>\n",
       "      <td>0.0</td>\n",
       "      <td>0.0</td>\n",
       "      <td>...</td>\n",
       "      <td>NaN</td>\n",
       "      <td>NaN</td>\n",
       "      <td>0.0</td>\n",
       "      <td>NaN</td>\n",
       "      <td>Tue Jan 01 00:00:00 EST 2013</td>\n",
       "      <td>Tue Jan 01 00:00:00 EST 2013</td>\n",
       "      <td>NaN</td>\n",
       "      <td>0</td>\n",
       "      <td>0</td>\n",
       "      <td>0</td>\n",
       "    </tr>\n",
       "    <tr>\n",
       "      <th>2</th>\n",
       "      <td>11.018889</td>\n",
       "      <td>0.0</td>\n",
       "      <td>0.0</td>\n",
       "      <td>0.0</td>\n",
       "      <td>23</td>\n",
       "      <td>0.0</td>\n",
       "      <td>0</td>\n",
       "      <td>0.0</td>\n",
       "      <td>0.0</td>\n",
       "      <td>0.0</td>\n",
       "      <td>...</td>\n",
       "      <td>NaN</td>\n",
       "      <td>NaN</td>\n",
       "      <td>0.0</td>\n",
       "      <td>NaN</td>\n",
       "      <td>Tue Jan 01 00:00:00 EST 2013</td>\n",
       "      <td>Tue Jan 01 00:00:00 EST 2013</td>\n",
       "      <td>NaN</td>\n",
       "      <td>0</td>\n",
       "      <td>0</td>\n",
       "      <td>0</td>\n",
       "    </tr>\n",
       "    <tr>\n",
       "      <th>3</th>\n",
       "      <td>27.046364</td>\n",
       "      <td>0.0</td>\n",
       "      <td>0.0</td>\n",
       "      <td>0.0</td>\n",
       "      <td>10</td>\n",
       "      <td>0.0</td>\n",
       "      <td>0</td>\n",
       "      <td>0.0</td>\n",
       "      <td>0.0</td>\n",
       "      <td>0.0</td>\n",
       "      <td>...</td>\n",
       "      <td>NaN</td>\n",
       "      <td>NaN</td>\n",
       "      <td>0.0</td>\n",
       "      <td>NaN</td>\n",
       "      <td>Tue Jan 01 00:00:00 EST 2013</td>\n",
       "      <td>Tue Jan 01 00:00:00 EST 2013</td>\n",
       "      <td>NaN</td>\n",
       "      <td>0</td>\n",
       "      <td>0</td>\n",
       "      <td>0</td>\n",
       "    </tr>\n",
       "    <tr>\n",
       "      <th>4</th>\n",
       "      <td>15.658421</td>\n",
       "      <td>0.0</td>\n",
       "      <td>0.0</td>\n",
       "      <td>0.0</td>\n",
       "      <td>17</td>\n",
       "      <td>0.0</td>\n",
       "      <td>0</td>\n",
       "      <td>0.0</td>\n",
       "      <td>0.0</td>\n",
       "      <td>0.0</td>\n",
       "      <td>...</td>\n",
       "      <td>NaN</td>\n",
       "      <td>NaN</td>\n",
       "      <td>0.0</td>\n",
       "      <td>NaN</td>\n",
       "      <td>Tue Jan 01 00:00:00 EST 2013</td>\n",
       "      <td>Tue Jan 01 00:00:00 EST 2013</td>\n",
       "      <td>NaN</td>\n",
       "      <td>0</td>\n",
       "      <td>0</td>\n",
       "      <td>0</td>\n",
       "    </tr>\n",
       "    <tr>\n",
       "      <th>...</th>\n",
       "      <td>...</td>\n",
       "      <td>...</td>\n",
       "      <td>...</td>\n",
       "      <td>...</td>\n",
       "      <td>...</td>\n",
       "      <td>...</td>\n",
       "      <td>...</td>\n",
       "      <td>...</td>\n",
       "      <td>...</td>\n",
       "      <td>...</td>\n",
       "      <td>...</td>\n",
       "      <td>...</td>\n",
       "      <td>...</td>\n",
       "      <td>...</td>\n",
       "      <td>...</td>\n",
       "      <td>...</td>\n",
       "      <td>...</td>\n",
       "      <td>...</td>\n",
       "      <td>...</td>\n",
       "      <td>...</td>\n",
       "      <td>...</td>\n",
       "    </tr>\n",
       "    <tr>\n",
       "      <th>44821</th>\n",
       "      <td>13.523182</td>\n",
       "      <td>0.0</td>\n",
       "      <td>0.0</td>\n",
       "      <td>0.0</td>\n",
       "      <td>19</td>\n",
       "      <td>0.0</td>\n",
       "      <td>0</td>\n",
       "      <td>0.0</td>\n",
       "      <td>0.0</td>\n",
       "      <td>0.0</td>\n",
       "      <td>...</td>\n",
       "      <td>NaN</td>\n",
       "      <td>NaN</td>\n",
       "      <td>0.0</td>\n",
       "      <td>NaN</td>\n",
       "      <td>Tue Jan 01 00:00:00 EST 2013</td>\n",
       "      <td>Tue Jan 01 00:00:00 EST 2013</td>\n",
       "      <td>NaN</td>\n",
       "      <td>0</td>\n",
       "      <td>0</td>\n",
       "      <td>0</td>\n",
       "    </tr>\n",
       "    <tr>\n",
       "      <th>44822</th>\n",
       "      <td>12.935217</td>\n",
       "      <td>0.0</td>\n",
       "      <td>0.0</td>\n",
       "      <td>0.0</td>\n",
       "      <td>20</td>\n",
       "      <td>0.0</td>\n",
       "      <td>0</td>\n",
       "      <td>0.0</td>\n",
       "      <td>0.0</td>\n",
       "      <td>0.0</td>\n",
       "      <td>...</td>\n",
       "      <td>NaN</td>\n",
       "      <td>NaN</td>\n",
       "      <td>0.0</td>\n",
       "      <td>NaN</td>\n",
       "      <td>Tue Jan 01 00:00:00 EST 2013</td>\n",
       "      <td>Tue Jan 01 00:00:00 EST 2013</td>\n",
       "      <td>NaN</td>\n",
       "      <td>0</td>\n",
       "      <td>0</td>\n",
       "      <td>0</td>\n",
       "    </tr>\n",
       "    <tr>\n",
       "      <th>44823</th>\n",
       "      <td>14.167143</td>\n",
       "      <td>0.0</td>\n",
       "      <td>0.0</td>\n",
       "      <td>0.0</td>\n",
       "      <td>18</td>\n",
       "      <td>0.0</td>\n",
       "      <td>0</td>\n",
       "      <td>0.0</td>\n",
       "      <td>0.0</td>\n",
       "      <td>0.0</td>\n",
       "      <td>...</td>\n",
       "      <td>NaN</td>\n",
       "      <td>NaN</td>\n",
       "      <td>0.0</td>\n",
       "      <td>NaN</td>\n",
       "      <td>Tue Jan 01 00:00:00 EST 2013</td>\n",
       "      <td>Tue Jan 01 00:00:00 EST 2013</td>\n",
       "      <td>NaN</td>\n",
       "      <td>0</td>\n",
       "      <td>0</td>\n",
       "      <td>0</td>\n",
       "    </tr>\n",
       "    <tr>\n",
       "      <th>44824</th>\n",
       "      <td>14.167143</td>\n",
       "      <td>0.0</td>\n",
       "      <td>0.0</td>\n",
       "      <td>0.0</td>\n",
       "      <td>18</td>\n",
       "      <td>0.0</td>\n",
       "      <td>0</td>\n",
       "      <td>0.0</td>\n",
       "      <td>0.0</td>\n",
       "      <td>0.0</td>\n",
       "      <td>...</td>\n",
       "      <td>NaN</td>\n",
       "      <td>NaN</td>\n",
       "      <td>0.0</td>\n",
       "      <td>NaN</td>\n",
       "      <td>Tue Jan 01 00:00:00 EST 2013</td>\n",
       "      <td>Tue Jan 01 00:00:00 EST 2013</td>\n",
       "      <td>NaN</td>\n",
       "      <td>0</td>\n",
       "      <td>0</td>\n",
       "      <td>0</td>\n",
       "    </tr>\n",
       "    <tr>\n",
       "      <th>44825</th>\n",
       "      <td>16.528333</td>\n",
       "      <td>0.0</td>\n",
       "      <td>0.0</td>\n",
       "      <td>0.0</td>\n",
       "      <td>16</td>\n",
       "      <td>0.0</td>\n",
       "      <td>0</td>\n",
       "      <td>0.0</td>\n",
       "      <td>0.0</td>\n",
       "      <td>0.0</td>\n",
       "      <td>...</td>\n",
       "      <td>NaN</td>\n",
       "      <td>NaN</td>\n",
       "      <td>0.0</td>\n",
       "      <td>NaN</td>\n",
       "      <td>Tue Jan 01 00:00:00 EST 2013</td>\n",
       "      <td>Tue Jan 01 00:00:00 EST 2013</td>\n",
       "      <td>NaN</td>\n",
       "      <td>0</td>\n",
       "      <td>0</td>\n",
       "      <td>0</td>\n",
       "    </tr>\n",
       "  </tbody>\n",
       "</table>\n",
       "<p>44826 rows × 83 columns</p>\n",
       "</div>"
      ],
      "text/plain": [
       "       barrels08  barrelsA08  charge120  charge240  city08  city08U  cityA08  \\\n",
       "0      14.167143         0.0        0.0        0.0      19      0.0        0   \n",
       "1      27.046364         0.0        0.0        0.0       9      0.0        0   \n",
       "2      11.018889         0.0        0.0        0.0      23      0.0        0   \n",
       "3      27.046364         0.0        0.0        0.0      10      0.0        0   \n",
       "4      15.658421         0.0        0.0        0.0      17      0.0        0   \n",
       "...          ...         ...        ...        ...     ...      ...      ...   \n",
       "44821  13.523182         0.0        0.0        0.0      19      0.0        0   \n",
       "44822  12.935217         0.0        0.0        0.0      20      0.0        0   \n",
       "44823  14.167143         0.0        0.0        0.0      18      0.0        0   \n",
       "44824  14.167143         0.0        0.0        0.0      18      0.0        0   \n",
       "44825  16.528333         0.0        0.0        0.0      16      0.0        0   \n",
       "\n",
       "       cityA08U  cityCD  cityE  ...  mfrCode  c240Dscr  charge240b  c240bDscr  \\\n",
       "0           0.0     0.0    0.0  ...      NaN       NaN         0.0        NaN   \n",
       "1           0.0     0.0    0.0  ...      NaN       NaN         0.0        NaN   \n",
       "2           0.0     0.0    0.0  ...      NaN       NaN         0.0        NaN   \n",
       "3           0.0     0.0    0.0  ...      NaN       NaN         0.0        NaN   \n",
       "4           0.0     0.0    0.0  ...      NaN       NaN         0.0        NaN   \n",
       "...         ...     ...    ...  ...      ...       ...         ...        ...   \n",
       "44821       0.0     0.0    0.0  ...      NaN       NaN         0.0        NaN   \n",
       "44822       0.0     0.0    0.0  ...      NaN       NaN         0.0        NaN   \n",
       "44823       0.0     0.0    0.0  ...      NaN       NaN         0.0        NaN   \n",
       "44824       0.0     0.0    0.0  ...      NaN       NaN         0.0        NaN   \n",
       "44825       0.0     0.0    0.0  ...      NaN       NaN         0.0        NaN   \n",
       "\n",
       "                          createdOn                    modifiedOn  startStop  \\\n",
       "0      Tue Jan 01 00:00:00 EST 2013  Tue Jan 01 00:00:00 EST 2013        NaN   \n",
       "1      Tue Jan 01 00:00:00 EST 2013  Tue Jan 01 00:00:00 EST 2013        NaN   \n",
       "2      Tue Jan 01 00:00:00 EST 2013  Tue Jan 01 00:00:00 EST 2013        NaN   \n",
       "3      Tue Jan 01 00:00:00 EST 2013  Tue Jan 01 00:00:00 EST 2013        NaN   \n",
       "4      Tue Jan 01 00:00:00 EST 2013  Tue Jan 01 00:00:00 EST 2013        NaN   \n",
       "...                             ...                           ...        ...   \n",
       "44821  Tue Jan 01 00:00:00 EST 2013  Tue Jan 01 00:00:00 EST 2013        NaN   \n",
       "44822  Tue Jan 01 00:00:00 EST 2013  Tue Jan 01 00:00:00 EST 2013        NaN   \n",
       "44823  Tue Jan 01 00:00:00 EST 2013  Tue Jan 01 00:00:00 EST 2013        NaN   \n",
       "44824  Tue Jan 01 00:00:00 EST 2013  Tue Jan 01 00:00:00 EST 2013        NaN   \n",
       "44825  Tue Jan 01 00:00:00 EST 2013  Tue Jan 01 00:00:00 EST 2013        NaN   \n",
       "\n",
       "       phevCity  phevHwy  phevComb  \n",
       "0             0        0         0  \n",
       "1             0        0         0  \n",
       "2             0        0         0  \n",
       "3             0        0         0  \n",
       "4             0        0         0  \n",
       "...         ...      ...       ...  \n",
       "44821         0        0         0  \n",
       "44822         0        0         0  \n",
       "44823         0        0         0  \n",
       "44824         0        0         0  \n",
       "44825         0        0         0  \n",
       "\n",
       "[44826 rows x 83 columns]"
      ]
     },
     "execution_count": 2,
     "metadata": {},
     "output_type": "execute_result"
    }
   ],
   "source": [
    "fueleco = pd.read_csv('data/vehicles.csv.zip')\n",
    "fueleco"
   ]
  },
  {
   "cell_type": "code",
   "execution_count": 3,
   "id": "75a220e9-9c7b-472f-8182-18dc245d1fa3",
   "metadata": {},
   "outputs": [
    {
     "data": {
      "text/plain": [
       "Index(['drive', 'eng_dscr', 'fuelType', 'fuelType1', 'make', 'model',\n",
       "       'mpgData', 'trany', 'VClass', 'guzzler', 'trans_dscr', 'tCharger',\n",
       "       'sCharger', 'atvType', 'fuelType2', 'rangeA', 'evMotor', 'mfrCode',\n",
       "       'c240Dscr', 'c240bDscr', 'createdOn', 'modifiedOn', 'startStop'],\n",
       "      dtype='object')"
      ]
     },
     "execution_count": 3,
     "metadata": {},
     "output_type": "execute_result"
    }
   ],
   "source": [
    "fueleco.select_dtypes(object).columns"
   ]
  },
  {
   "cell_type": "code",
   "execution_count": 4,
   "id": "00440c00-d66f-45a8-9cdb-65ff019c0e9c",
   "metadata": {},
   "outputs": [
    {
     "data": {
      "text/plain": [
       "247"
      ]
     },
     "execution_count": 4,
     "metadata": {},
     "output_type": "execute_result"
    }
   ],
   "source": [
    "fueleco.modifiedOn.nunique()"
   ]
  },
  {
   "cell_type": "code",
   "execution_count": 5,
   "id": "e8b5cbda-6df0-4454-b6b7-f29229dfe913",
   "metadata": {},
   "outputs": [
    {
     "data": {
      "text/plain": [
       "Tue Jan 01 00:00:00 EST 2013    29175\n",
       "Mon Sep 26 00:00:00 EDT 2016     6041\n",
       "Wed Apr 05 00:00:00 EDT 2017      847\n",
       "Fri Mar 25 00:00:00 EDT 2022      412\n",
       "Tue Jun 02 00:00:00 EDT 2020      360\n",
       "                                ...  \n",
       "Fri Feb 24 00:00:00 EST 2017        1\n",
       "Mon Jan 06 00:00:00 EST 2014        1\n",
       "Wed Oct 19 00:00:00 EDT 2016        1\n",
       "Thu Oct 26 00:00:00 EDT 2017        1\n",
       "Wed Mar 17 00:00:00 EDT 2021        1\n",
       "Name: modifiedOn, Length: 247, dtype: int64"
      ]
     },
     "execution_count": 5,
     "metadata": {},
     "output_type": "execute_result"
    }
   ],
   "source": [
    "fueleco.modifiedOn.value_counts()"
   ]
  },
  {
   "cell_type": "code",
   "execution_count": 6,
   "id": "960f520f-6d28-4856-8560-a2a0591c1c29",
   "metadata": {},
   "outputs": [
    {
     "data": {
      "text/plain": [
       "<AxesSubplot:>"
      ]
     },
     "execution_count": 6,
     "metadata": {},
     "output_type": "execute_result"
    },
    {
     "data": {
      "image/png": "[encoded data removed]",
      "text/plain": [
       "<Figure size 432x288 with 1 Axes>"
      ]
     },
     "metadata": {
      "needs_background": "light"
     },
     "output_type": "display_data"
    }
   ],
   "source": [
    "fueleco.fuelType.value_counts().plot(kind='bar')"
   ]
  },
  {
   "cell_type": "code",
   "execution_count": 7,
   "id": "8649a363-1edd-4245-b7be-1fc393e6a150",
   "metadata": {},
   "outputs": [
    {
     "data": {
      "text/plain": [
       "<BarContainer object of 14 artists>"
      ]
     },
     "execution_count": 7,
     "metadata": {},
     "output_type": "execute_result"
    },
    {
     "data": {
      "image/png": "[encoded data removed]",
      "text/plain": [
       "<Figure size 720x576 with 1 Axes>"
      ]
     },
     "metadata": {
      "needs_background": "light"
     },
     "output_type": "display_data"
    }
   ],
   "source": [
    "import matplotlib.pyplot as plt\n",
    "\n",
    "fig, ax = plt.subplots(figsize=(10,8))\n",
    "plt.bar(fueleco.fuelType.value_counts().index, fueleco.fuelType.value_counts())"
   ]
  },
  {
   "cell_type": "code",
   "execution_count": 8,
   "id": "ff3c7085-6757-4bde-9682-d950f519a788",
   "metadata": {},
   "outputs": [
    {
     "name": "stderr",
     "output_type": "stream",
     "text": [
      "C:\\anaconda3\\lib\\site-packages\\seaborn\\_decorators.py:36: FutureWarning: Pass the following variables as keyword args: x, y. From version 0.12, the only valid positional argument will be `data`, and passing other arguments without an explicit keyword will result in an error or misinterpretation.\n",
      "  warnings.warn(\n"
     ]
    },
    {
     "data": {
      "text/plain": [
       "<AxesSubplot:ylabel='fuelType'>"
      ]
     },
     "execution_count": 8,
     "metadata": {},
     "output_type": "execute_result"
    },
    {
     "data": {
      "image/png": "[encoded data removed]",
      "text/plain": [
       "<Figure size 432x288 with 1 Axes>"
      ]
     },
     "metadata": {
      "needs_background": "light"
     },
     "output_type": "display_data"
    }
   ],
   "source": [
    "import seaborn as sns\n",
    "\n",
    "sns.barplot(fueleco.fuelType.value_counts().index, fueleco.fuelType.value_counts())"
   ]
  },
  {
   "cell_type": "code",
   "execution_count": 9,
   "id": "67c6087a-00e4-4f2a-aa3e-6f683daf7397",
   "metadata": {},
   "outputs": [
    {
     "data": {
      "text/plain": [
       "CLKUP              7809\n",
       "SIL                2189\n",
       "2MODE CLKUP        1235\n",
       "Creeper             525\n",
       "3MODE CLKUP         517\n",
       "EMS 2MODE CLKUP     517\n",
       "2MODE               448\n",
       "2MODE 2LKUP         383\n",
       "EMS                 252\n",
       "3MODE               166\n",
       "CMODE               150\n",
       "CMODE CLKUP         130\n",
       "VMODE CLKUP         105\n",
       "SIL Creeper          72\n",
       "2LKUP                63\n",
       "DC/FW                53\n",
       "VLKUP                52\n",
       "EMS CLKUP            50\n",
       "EMS 2MODE            46\n",
       "6MODE CLKUP          41\n",
       "4MODE                35\n",
       "VMODE VLKUP          26\n",
       "2MODE 3LKUP          22\n",
       "2MODE DC/FW          19\n",
       "CMODE VLKUP          17\n",
       "3LKUP                15\n",
       "EMS 3MODE            11\n",
       "Overdrive            10\n",
       "Lockup                9\n",
       "2MODE VLKUP           9\n",
       "SIL EMS               7\n",
       "SIL 3MODE             6\n",
       "4MODE CLKUP           6\n",
       "6MODE                 6\n",
       "SIL 2MODE CLKUP       5\n",
       "EMS 2MODE CLKU        5\n",
       "3MODE VLKUP           5\n",
       "Elec Overdrive        3\n",
       "Mech Overdrive        3\n",
       "EMS 3MODE CLKUP       3\n",
       "SIL CMODE             2\n",
       "EMS CMODE CLKUP       2\n",
       "2MODE CLKUP FW        2\n",
       "SIL 3MODE CLKUP       2\n",
       "LONG RATIO            2\n",
       "3MODE 2LKUP           2\n",
       "VMODE                 2\n",
       "SIL CLKUP             1\n",
       "Lockup A3             1\n",
       "3MODE CLKUP FW        1\n",
       "fuel injection        1\n",
       "EMS 5MODE             1\n",
       "Name: trans_dscr, dtype: int64"
      ]
     },
     "execution_count": 9,
     "metadata": {},
     "output_type": "execute_result"
    }
   ],
   "source": [
    "fueleco.trans_dscr.value_counts()"
   ]
  },
  {
   "cell_type": "code",
   "execution_count": 10,
   "id": "7b1c33a2-980c-4d12-a737-71f731f250d9",
   "metadata": {},
   "outputs": [
    {
     "data": {
      "text/plain": [
       "52"
      ]
     },
     "execution_count": 10,
     "metadata": {},
     "output_type": "execute_result"
    }
   ],
   "source": [
    "fueleco.trans_dscr.nunique()"
   ]
  },
  {
   "cell_type": "code",
   "execution_count": 11,
   "id": "72222922-7101-40eb-b466-77951ab100a3",
   "metadata": {},
   "outputs": [
    {
     "data": {
      "text/plain": [
       "29782"
      ]
     },
     "execution_count": 11,
     "metadata": {},
     "output_type": "execute_result"
    }
   ],
   "source": [
    "fueleco.trans_dscr.isna().sum()"
   ]
  },
  {
   "cell_type": "code",
   "execution_count": 12,
   "id": "9ed3c2f8-dffb-44d0-8f51-82f5c7d5cfaa",
   "metadata": {},
   "outputs": [],
   "source": [
    "top_n = fueleco.trans_dscr.value_counts().index[:5]"
   ]
  },
  {
   "cell_type": "code",
   "execution_count": 13,
   "id": "96777d38-1d3c-4b9f-8819-06d34fc4a856",
   "metadata": {},
   "outputs": [
    {
     "data": {
      "text/plain": [
       "Index(['CLKUP', 'SIL', '2MODE CLKUP', 'Creeper', '3MODE CLKUP'], dtype='object')"
      ]
     },
     "execution_count": 13,
     "metadata": {},
     "output_type": "execute_result"
    }
   ],
   "source": [
    "top_n"
   ]
  },
  {
   "cell_type": "code",
   "execution_count": 14,
   "id": "ad0df2d8-4721-44f6-928a-f7cb2702e79c",
   "metadata": {},
   "outputs": [
    {
     "data": {
      "text/plain": [
       "Other          32551\n",
       "CLKUP           7809\n",
       "SIL             2189\n",
       "2MODE CLKUP     1235\n",
       "Creeper          525\n",
       "3MODE CLKUP      517\n",
       "Name: trans_dscr, dtype: int64"
      ]
     },
     "execution_count": 14,
     "metadata": {},
     "output_type": "execute_result"
    }
   ],
   "source": [
    "fueleco.trans_dscr.where(fueleco.trans_dscr.isin(top_n), 'Other').value_counts()"
   ]
  },
  {
   "cell_type": "code",
   "execution_count": 15,
   "id": "108206c0-283e-4b14-9691-29696696fbae",
   "metadata": {},
   "outputs": [
    {
     "data": {
      "text/plain": [
       "Other          32551\n",
       "CLKUP           7809\n",
       "SIL             2189\n",
       "2MODE CLKUP     1235\n",
       "Creeper          525\n",
       "3MODE CLKUP      517\n",
       "Name: trans_dscr1, dtype: int64"
      ]
     },
     "execution_count": 15,
     "metadata": {},
     "output_type": "execute_result"
    }
   ],
   "source": [
    "(\n",
    "    fueleco.assign(trans_dscr1 = fueleco.trans_dscr.where(fueleco.trans_dscr.isin(top_n), 'Other'))\n",
    "    .trans_dscr1.value_counts()\n",
    ")"
   ]
  },
  {
   "cell_type": "code",
   "execution_count": 16,
   "id": "d98b69a2-ddc4-4763-bfcd-295c2af0c576",
   "metadata": {},
   "outputs": [
    {
     "data": {
      "text/plain": [
       "<AxesSubplot:>"
      ]
     },
     "execution_count": 16,
     "metadata": {},
     "output_type": "execute_result"
    },
    {
     "data": {
      "image/png": "[encoded data removed]",
      "text/plain": [
       "<Figure size 720x576 with 1 Axes>"
      ]
     },
     "metadata": {
      "needs_background": "light"
     },
     "output_type": "display_data"
    }
   ],
   "source": [
    "import matplotlib.pyplot as plt\n",
    "fig, ax = plt.subplots(figsize=(10,8))\n",
    "top_n = fueleco.trans_dscr.value_counts().index[:5]\n",
    "(\n",
    "    fueleco.assign(\n",
    "        trans_dscr1 = fueleco.trans_dscr.where(\n",
    "            fueleco.trans_dscr.isin(top_n), 'Other'))\n",
    "    .trans_dscr1.value_counts()[1:]\n",
    "    .plot.bar(ax=ax)\n",
    ")"
   ]
  },
  {
   "cell_type": "code",
   "execution_count": 17,
   "id": "bc100d0a-b124-49df-aada-c570c5f36c20",
   "metadata": {},
   "outputs": [
    {
     "data": {
      "text/plain": [
       "<AxesSubplot:xlabel='count', ylabel='fuelType'>"
      ]
     },
     "execution_count": 17,
     "metadata": {},
     "output_type": "execute_result"
    },
    {
     "data": {
      "image/png": "[encoded data removed]",
      "text/plain": [
       "<Figure size 720x576 with 1 Axes>"
      ]
     },
     "metadata": {
      "needs_background": "light"
     },
     "output_type": "display_data"
    }
   ],
   "source": [
    "fig, ax = plt.subplots(figsize=(10,8))\n",
    "sns.countplot(y='fuelType', data=(fueleco), order=fueleco.fuelType.value_counts().index)"
   ]
  },
  {
   "cell_type": "code",
   "execution_count": 18,
   "id": "73f47350-1c80-4906-b1dd-b73523517918",
   "metadata": {},
   "outputs": [
    {
     "data": {
      "text/plain": [
       "Regular                        27948\n",
       "Premium                        13272\n",
       "Gasoline or E85                 1371\n",
       "Diesel                          1232\n",
       "Electricity                      372\n",
       "Midgrade                         142\n",
       "Premium and Electricity          137\n",
       "Premium or E85                   127\n",
       "Regular Gas and Electricity       78\n",
       "CNG                               60\n",
       "Premium Gas or Electricity        55\n",
       "Gasoline or natural gas           20\n",
       "Gasoline or propane                8\n",
       "Regular Gas or Electricity         4\n",
       "Name: fuelType, dtype: int64"
      ]
     },
     "execution_count": 18,
     "metadata": {},
     "output_type": "execute_result"
    }
   ],
   "source": [
    "fueleco.fuelType.value_counts()"
   ]
  },
  {
   "cell_type": "code",
   "execution_count": 19,
   "id": "eb030c4e-5746-488b-9a1f-14ca5fb731f2",
   "metadata": {},
   "outputs": [
    {
     "data": {
      "text/plain": [
       "<AxesSubplot:xlabel='count', ylabel='trans_dscr'>"
      ]
     },
     "execution_count": 19,
     "metadata": {},
     "output_type": "execute_result"
    },
    {
     "data": {
      "image/png": "[encoded data removed]",
      "text/plain": [
       "<Figure size 720x576 with 1 Axes>"
      ]
     },
     "metadata": {
      "needs_background": "light"
     },
     "output_type": "display_data"
    }
   ],
   "source": [
    "import seaborn as sns\n",
    "\n",
    "fig, ax = plt.subplots(figsize=(10, 8))\n",
    "top_n = fueleco.trans_dscr.value_counts().index[:5]\n",
    "sns.countplot(\n",
    "    y='trans_dscr',\n",
    "    data=(fueleco[fueleco.trans_dscr.isin(top_n)])\n",
    "    , hue = 'fuelType', order=fueleco.trans_dscr.value_counts().index[:5]\n",
    ")"
   ]
  },
  {
   "cell_type": "code",
   "execution_count": 20,
   "id": "ac0f3909-e14f-46d4-aaa5-64ec630ca682",
   "metadata": {},
   "outputs": [
    {
     "data": {
      "text/html": [
       "<div>\n",
       "<style scoped>\n",
       "    .dataframe tbody tr th:only-of-type {\n",
       "        vertical-align: middle;\n",
       "    }\n",
       "\n",
       "    .dataframe tbody tr th {\n",
       "        vertical-align: top;\n",
       "    }\n",
       "\n",
       "    .dataframe thead th {\n",
       "        text-align: right;\n",
       "    }\n",
       "</style>\n",
       "<table border=\"1\" class=\"dataframe\">\n",
       "  <thead>\n",
       "    <tr style=\"text-align: right;\">\n",
       "      <th></th>\n",
       "      <th>count</th>\n",
       "      <th>mean</th>\n",
       "      <th>std</th>\n",
       "      <th>min</th>\n",
       "      <th>25%</th>\n",
       "      <th>50%</th>\n",
       "      <th>75%</th>\n",
       "      <th>max</th>\n",
       "    </tr>\n",
       "  </thead>\n",
       "  <tbody>\n",
       "    <tr>\n",
       "      <th>barrels08</th>\n",
       "      <td>44826.0</td>\n",
       "      <td>15.397271</td>\n",
       "      <td>4.282898</td>\n",
       "      <td>0.047081</td>\n",
       "      <td>12.935217</td>\n",
       "      <td>14.8755</td>\n",
       "      <td>17.500588</td>\n",
       "      <td>42.501429</td>\n",
       "    </tr>\n",
       "    <tr>\n",
       "      <th>barrelsA08</th>\n",
       "      <td>44826.0</td>\n",
       "      <td>0.191350</td>\n",
       "      <td>0.980593</td>\n",
       "      <td>0.000000</td>\n",
       "      <td>0.000000</td>\n",
       "      <td>0.0000</td>\n",
       "      <td>0.000000</td>\n",
       "      <td>16.528333</td>\n",
       "    </tr>\n",
       "    <tr>\n",
       "      <th>charge120</th>\n",
       "      <td>44826.0</td>\n",
       "      <td>0.000000</td>\n",
       "      <td>0.000000</td>\n",
       "      <td>0.000000</td>\n",
       "      <td>0.000000</td>\n",
       "      <td>0.0000</td>\n",
       "      <td>0.000000</td>\n",
       "      <td>0.000000</td>\n",
       "    </tr>\n",
       "    <tr>\n",
       "      <th>charge240</th>\n",
       "      <td>44826.0</td>\n",
       "      <td>0.089639</td>\n",
       "      <td>0.879534</td>\n",
       "      <td>0.000000</td>\n",
       "      <td>0.000000</td>\n",
       "      <td>0.0000</td>\n",
       "      <td>0.000000</td>\n",
       "      <td>15.300000</td>\n",
       "    </tr>\n",
       "    <tr>\n",
       "      <th>city08</th>\n",
       "      <td>44826.0</td>\n",
       "      <td>18.885647</td>\n",
       "      <td>9.532714</td>\n",
       "      <td>6.000000</td>\n",
       "      <td>15.000000</td>\n",
       "      <td>17.0000</td>\n",
       "      <td>21.000000</td>\n",
       "      <td>150.000000</td>\n",
       "    </tr>\n",
       "    <tr>\n",
       "      <th>city08U</th>\n",
       "      <td>44826.0</td>\n",
       "      <td>7.515860</td>\n",
       "      <td>13.465673</td>\n",
       "      <td>0.000000</td>\n",
       "      <td>0.000000</td>\n",
       "      <td>0.0000</td>\n",
       "      <td>16.540575</td>\n",
       "      <td>150.195800</td>\n",
       "    </tr>\n",
       "    <tr>\n",
       "      <th>cityA08</th>\n",
       "      <td>44826.0</td>\n",
       "      <td>0.836033</td>\n",
       "      <td>6.406175</td>\n",
       "      <td>0.000000</td>\n",
       "      <td>0.000000</td>\n",
       "      <td>0.0000</td>\n",
       "      <td>0.000000</td>\n",
       "      <td>145.000000</td>\n",
       "    </tr>\n",
       "    <tr>\n",
       "      <th>cityA08U</th>\n",
       "      <td>44826.0</td>\n",
       "      <td>0.703789</td>\n",
       "      <td>6.314449</td>\n",
       "      <td>0.000000</td>\n",
       "      <td>0.000000</td>\n",
       "      <td>0.0000</td>\n",
       "      <td>0.000000</td>\n",
       "      <td>145.083500</td>\n",
       "    </tr>\n",
       "    <tr>\n",
       "      <th>cityCD</th>\n",
       "      <td>44826.0</td>\n",
       "      <td>0.000508</td>\n",
       "      <td>0.037666</td>\n",
       "      <td>0.000000</td>\n",
       "      <td>0.000000</td>\n",
       "      <td>0.0000</td>\n",
       "      <td>0.000000</td>\n",
       "      <td>5.350000</td>\n",
       "    </tr>\n",
       "    <tr>\n",
       "      <th>cityE</th>\n",
       "      <td>44826.0</td>\n",
       "      <td>0.593403</td>\n",
       "      <td>5.244540</td>\n",
       "      <td>0.000000</td>\n",
       "      <td>0.000000</td>\n",
       "      <td>0.0000</td>\n",
       "      <td>0.000000</td>\n",
       "      <td>122.000000</td>\n",
       "    </tr>\n",
       "    <tr>\n",
       "      <th>cityUF</th>\n",
       "      <td>44826.0</td>\n",
       "      <td>0.003043</td>\n",
       "      <td>0.040527</td>\n",
       "      <td>0.000000</td>\n",
       "      <td>0.000000</td>\n",
       "      <td>0.0000</td>\n",
       "      <td>0.000000</td>\n",
       "      <td>0.927000</td>\n",
       "    </tr>\n",
       "    <tr>\n",
       "      <th>co2</th>\n",
       "      <td>44826.0</td>\n",
       "      <td>112.600500</td>\n",
       "      <td>190.696112</td>\n",
       "      <td>-1.000000</td>\n",
       "      <td>-1.000000</td>\n",
       "      <td>-1.0000</td>\n",
       "      <td>292.000000</td>\n",
       "      <td>979.000000</td>\n",
       "    </tr>\n",
       "    <tr>\n",
       "      <th>co2A</th>\n",
       "      <td>44826.0</td>\n",
       "      <td>5.895039</td>\n",
       "      <td>57.272016</td>\n",
       "      <td>-1.000000</td>\n",
       "      <td>-1.000000</td>\n",
       "      <td>-1.0000</td>\n",
       "      <td>-1.000000</td>\n",
       "      <td>713.000000</td>\n",
       "    </tr>\n",
       "    <tr>\n",
       "      <th>co2TailpipeAGpm</th>\n",
       "      <td>44826.0</td>\n",
       "      <td>16.875250</td>\n",
       "      <td>91.631016</td>\n",
       "      <td>0.000000</td>\n",
       "      <td>0.000000</td>\n",
       "      <td>0.0000</td>\n",
       "      <td>0.000000</td>\n",
       "      <td>713.000000</td>\n",
       "    </tr>\n",
       "    <tr>\n",
       "      <th>co2TailpipeGpm</th>\n",
       "      <td>44826.0</td>\n",
       "      <td>459.745125</td>\n",
       "      <td>126.801181</td>\n",
       "      <td>0.000000</td>\n",
       "      <td>386.391304</td>\n",
       "      <td>444.3500</td>\n",
       "      <td>522.764706</td>\n",
       "      <td>1269.571429</td>\n",
       "    </tr>\n",
       "    <tr>\n",
       "      <th>comb08</th>\n",
       "      <td>44826.0</td>\n",
       "      <td>21.112078</td>\n",
       "      <td>9.088326</td>\n",
       "      <td>7.000000</td>\n",
       "      <td>17.000000</td>\n",
       "      <td>20.0000</td>\n",
       "      <td>23.000000</td>\n",
       "      <td>142.000000</td>\n",
       "    </tr>\n",
       "    <tr>\n",
       "      <th>comb08U</th>\n",
       "      <td>44826.0</td>\n",
       "      <td>8.317922</td>\n",
       "      <td>13.982128</td>\n",
       "      <td>0.000000</td>\n",
       "      <td>0.000000</td>\n",
       "      <td>0.0000</td>\n",
       "      <td>18.951300</td>\n",
       "      <td>141.951200</td>\n",
       "    </tr>\n",
       "    <tr>\n",
       "      <th>combA08</th>\n",
       "      <td>44826.0</td>\n",
       "      <td>0.890019</td>\n",
       "      <td>6.368834</td>\n",
       "      <td>0.000000</td>\n",
       "      <td>0.000000</td>\n",
       "      <td>0.0000</td>\n",
       "      <td>0.000000</td>\n",
       "      <td>133.000000</td>\n",
       "    </tr>\n",
       "    <tr>\n",
       "      <th>combA08U</th>\n",
       "      <td>44826.0</td>\n",
       "      <td>0.737017</td>\n",
       "      <td>6.238241</td>\n",
       "      <td>0.000000</td>\n",
       "      <td>0.000000</td>\n",
       "      <td>0.0000</td>\n",
       "      <td>0.000000</td>\n",
       "      <td>133.266200</td>\n",
       "    </tr>\n",
       "    <tr>\n",
       "      <th>combE</th>\n",
       "      <td>44826.0</td>\n",
       "      <td>0.602807</td>\n",
       "      <td>5.270607</td>\n",
       "      <td>0.000000</td>\n",
       "      <td>0.000000</td>\n",
       "      <td>0.0000</td>\n",
       "      <td>0.000000</td>\n",
       "      <td>121.000000</td>\n",
       "    </tr>\n",
       "    <tr>\n",
       "      <th>combinedCD</th>\n",
       "      <td>44826.0</td>\n",
       "      <td>0.000396</td>\n",
       "      <td>0.032798</td>\n",
       "      <td>0.000000</td>\n",
       "      <td>0.000000</td>\n",
       "      <td>0.0000</td>\n",
       "      <td>0.000000</td>\n",
       "      <td>4.800000</td>\n",
       "    </tr>\n",
       "    <tr>\n",
       "      <th>combinedUF</th>\n",
       "      <td>44826.0</td>\n",
       "      <td>0.003014</td>\n",
       "      <td>0.040075</td>\n",
       "      <td>0.000000</td>\n",
       "      <td>0.000000</td>\n",
       "      <td>0.0000</td>\n",
       "      <td>0.000000</td>\n",
       "      <td>0.920000</td>\n",
       "    </tr>\n",
       "    <tr>\n",
       "      <th>cylinders</th>\n",
       "      <td>44451.0</td>\n",
       "      <td>5.710400</td>\n",
       "      <td>1.768548</td>\n",
       "      <td>2.000000</td>\n",
       "      <td>4.000000</td>\n",
       "      <td>6.0000</td>\n",
       "      <td>6.000000</td>\n",
       "      <td>16.000000</td>\n",
       "    </tr>\n",
       "    <tr>\n",
       "      <th>displ</th>\n",
       "      <td>44453.0</td>\n",
       "      <td>3.283304</td>\n",
       "      <td>1.357752</td>\n",
       "      <td>0.000000</td>\n",
       "      <td>2.200000</td>\n",
       "      <td>3.0000</td>\n",
       "      <td>4.200000</td>\n",
       "      <td>8.400000</td>\n",
       "    </tr>\n",
       "    <tr>\n",
       "      <th>engId</th>\n",
       "      <td>44826.0</td>\n",
       "      <td>7518.235020</td>\n",
       "      <td>16677.703498</td>\n",
       "      <td>0.000000</td>\n",
       "      <td>0.000000</td>\n",
       "      <td>165.0000</td>\n",
       "      <td>4110.000000</td>\n",
       "      <td>69102.000000</td>\n",
       "    </tr>\n",
       "    <tr>\n",
       "      <th>feScore</th>\n",
       "      <td>44826.0</td>\n",
       "      <td>0.728707</td>\n",
       "      <td>2.922459</td>\n",
       "      <td>-1.000000</td>\n",
       "      <td>-1.000000</td>\n",
       "      <td>-1.0000</td>\n",
       "      <td>3.000000</td>\n",
       "      <td>10.000000</td>\n",
       "    </tr>\n",
       "    <tr>\n",
       "      <th>fuelCost08</th>\n",
       "      <td>44826.0</td>\n",
       "      <td>3484.448757</td>\n",
       "      <td>969.794503</td>\n",
       "      <td>450.000000</td>\n",
       "      <td>2900.000000</td>\n",
       "      <td>3400.0000</td>\n",
       "      <td>3950.000000</td>\n",
       "      <td>10700.000000</td>\n",
       "    </tr>\n",
       "    <tr>\n",
       "      <th>fuelCostA08</th>\n",
       "      <td>44826.0</td>\n",
       "      <td>110.799536</td>\n",
       "      <td>595.626690</td>\n",
       "      <td>0.000000</td>\n",
       "      <td>0.000000</td>\n",
       "      <td>0.0000</td>\n",
       "      <td>0.000000</td>\n",
       "      <td>4550.000000</td>\n",
       "    </tr>\n",
       "    <tr>\n",
       "      <th>ghgScore</th>\n",
       "      <td>44826.0</td>\n",
       "      <td>0.730112</td>\n",
       "      <td>2.929203</td>\n",
       "      <td>-1.000000</td>\n",
       "      <td>-1.000000</td>\n",
       "      <td>-1.0000</td>\n",
       "      <td>3.000000</td>\n",
       "      <td>10.000000</td>\n",
       "    </tr>\n",
       "    <tr>\n",
       "      <th>ghgScoreA</th>\n",
       "      <td>44826.0</td>\n",
       "      <td>-0.921831</td>\n",
       "      <td>0.651672</td>\n",
       "      <td>-1.000000</td>\n",
       "      <td>-1.000000</td>\n",
       "      <td>-1.0000</td>\n",
       "      <td>-1.000000</td>\n",
       "      <td>8.000000</td>\n",
       "    </tr>\n",
       "    <tr>\n",
       "      <th>highway08</th>\n",
       "      <td>44826.0</td>\n",
       "      <td>24.966091</td>\n",
       "      <td>8.835479</td>\n",
       "      <td>9.000000</td>\n",
       "      <td>20.000000</td>\n",
       "      <td>24.0000</td>\n",
       "      <td>28.000000</td>\n",
       "      <td>133.000000</td>\n",
       "    </tr>\n",
       "    <tr>\n",
       "      <th>highway08U</th>\n",
       "      <td>44826.0</td>\n",
       "      <td>9.708028</td>\n",
       "      <td>15.302318</td>\n",
       "      <td>0.000000</td>\n",
       "      <td>0.000000</td>\n",
       "      <td>0.0000</td>\n",
       "      <td>23.045300</td>\n",
       "      <td>133.026300</td>\n",
       "    </tr>\n",
       "    <tr>\n",
       "      <th>highwayA08</th>\n",
       "      <td>44826.0</td>\n",
       "      <td>0.986994</td>\n",
       "      <td>6.491773</td>\n",
       "      <td>0.000000</td>\n",
       "      <td>0.000000</td>\n",
       "      <td>0.0000</td>\n",
       "      <td>0.000000</td>\n",
       "      <td>121.000000</td>\n",
       "    </tr>\n",
       "    <tr>\n",
       "      <th>highwayA08U</th>\n",
       "      <td>44826.0</td>\n",
       "      <td>0.803210</td>\n",
       "      <td>6.301896</td>\n",
       "      <td>0.000000</td>\n",
       "      <td>0.000000</td>\n",
       "      <td>0.0000</td>\n",
       "      <td>0.000000</td>\n",
       "      <td>121.200500</td>\n",
       "    </tr>\n",
       "    <tr>\n",
       "      <th>highwayCD</th>\n",
       "      <td>44826.0</td>\n",
       "      <td>0.000246</td>\n",
       "      <td>0.027264</td>\n",
       "      <td>0.000000</td>\n",
       "      <td>0.000000</td>\n",
       "      <td>0.0000</td>\n",
       "      <td>0.000000</td>\n",
       "      <td>4.060000</td>\n",
       "    </tr>\n",
       "    <tr>\n",
       "      <th>highwayE</th>\n",
       "      <td>44826.0</td>\n",
       "      <td>0.614548</td>\n",
       "      <td>5.323285</td>\n",
       "      <td>0.000000</td>\n",
       "      <td>0.000000</td>\n",
       "      <td>0.0000</td>\n",
       "      <td>0.000000</td>\n",
       "      <td>120.000000</td>\n",
       "    </tr>\n",
       "    <tr>\n",
       "      <th>highwayUF</th>\n",
       "      <td>44826.0</td>\n",
       "      <td>0.002974</td>\n",
       "      <td>0.039506</td>\n",
       "      <td>0.000000</td>\n",
       "      <td>0.000000</td>\n",
       "      <td>0.0000</td>\n",
       "      <td>0.000000</td>\n",
       "      <td>0.910000</td>\n",
       "    </tr>\n",
       "    <tr>\n",
       "      <th>hlv</th>\n",
       "      <td>44826.0</td>\n",
       "      <td>1.965422</td>\n",
       "      <td>5.907203</td>\n",
       "      <td>0.000000</td>\n",
       "      <td>0.000000</td>\n",
       "      <td>0.0000</td>\n",
       "      <td>0.000000</td>\n",
       "      <td>49.000000</td>\n",
       "    </tr>\n",
       "    <tr>\n",
       "      <th>hpv</th>\n",
       "      <td>44826.0</td>\n",
       "      <td>9.982733</td>\n",
       "      <td>27.740461</td>\n",
       "      <td>0.000000</td>\n",
       "      <td>0.000000</td>\n",
       "      <td>0.0000</td>\n",
       "      <td>0.000000</td>\n",
       "      <td>195.000000</td>\n",
       "    </tr>\n",
       "    <tr>\n",
       "      <th>id</th>\n",
       "      <td>44826.0</td>\n",
       "      <td>22560.373199</td>\n",
       "      <td>13089.703689</td>\n",
       "      <td>1.000000</td>\n",
       "      <td>11207.250000</td>\n",
       "      <td>22418.5000</td>\n",
       "      <td>33925.750000</td>\n",
       "      <td>45259.000000</td>\n",
       "    </tr>\n",
       "    <tr>\n",
       "      <th>lv2</th>\n",
       "      <td>44826.0</td>\n",
       "      <td>1.757975</td>\n",
       "      <td>4.302103</td>\n",
       "      <td>0.000000</td>\n",
       "      <td>0.000000</td>\n",
       "      <td>0.0000</td>\n",
       "      <td>0.000000</td>\n",
       "      <td>41.000000</td>\n",
       "    </tr>\n",
       "    <tr>\n",
       "      <th>lv4</th>\n",
       "      <td>44826.0</td>\n",
       "      <td>5.993151</td>\n",
       "      <td>9.533253</td>\n",
       "      <td>0.000000</td>\n",
       "      <td>0.000000</td>\n",
       "      <td>0.0000</td>\n",
       "      <td>13.000000</td>\n",
       "      <td>55.000000</td>\n",
       "    </tr>\n",
       "    <tr>\n",
       "      <th>pv2</th>\n",
       "      <td>44826.0</td>\n",
       "      <td>13.240017</td>\n",
       "      <td>30.788829</td>\n",
       "      <td>0.000000</td>\n",
       "      <td>0.000000</td>\n",
       "      <td>0.0000</td>\n",
       "      <td>0.000000</td>\n",
       "      <td>194.000000</td>\n",
       "    </tr>\n",
       "    <tr>\n",
       "      <th>pv4</th>\n",
       "      <td>44826.0</td>\n",
       "      <td>33.317115</td>\n",
       "      <td>45.953787</td>\n",
       "      <td>0.000000</td>\n",
       "      <td>0.000000</td>\n",
       "      <td>0.0000</td>\n",
       "      <td>91.000000</td>\n",
       "      <td>192.000000</td>\n",
       "    </tr>\n",
       "    <tr>\n",
       "      <th>range</th>\n",
       "      <td>44826.0</td>\n",
       "      <td>1.728305</td>\n",
       "      <td>20.985822</td>\n",
       "      <td>0.000000</td>\n",
       "      <td>0.000000</td>\n",
       "      <td>0.0000</td>\n",
       "      <td>0.000000</td>\n",
       "      <td>520.000000</td>\n",
       "    </tr>\n",
       "    <tr>\n",
       "      <th>rangeCity</th>\n",
       "      <td>44826.0</td>\n",
       "      <td>1.358174</td>\n",
       "      <td>18.961523</td>\n",
       "      <td>0.000000</td>\n",
       "      <td>0.000000</td>\n",
       "      <td>0.0000</td>\n",
       "      <td>0.000000</td>\n",
       "      <td>520.800000</td>\n",
       "    </tr>\n",
       "    <tr>\n",
       "      <th>rangeCityA</th>\n",
       "      <td>44826.0</td>\n",
       "      <td>0.164899</td>\n",
       "      <td>2.706430</td>\n",
       "      <td>0.000000</td>\n",
       "      <td>0.000000</td>\n",
       "      <td>0.0000</td>\n",
       "      <td>0.000000</td>\n",
       "      <td>135.280000</td>\n",
       "    </tr>\n",
       "    <tr>\n",
       "      <th>rangeHwy</th>\n",
       "      <td>44826.0</td>\n",
       "      <td>1.278243</td>\n",
       "      <td>18.095047</td>\n",
       "      <td>0.000000</td>\n",
       "      <td>0.000000</td>\n",
       "      <td>0.0000</td>\n",
       "      <td>0.000000</td>\n",
       "      <td>520.500000</td>\n",
       "    </tr>\n",
       "    <tr>\n",
       "      <th>rangeHwyA</th>\n",
       "      <td>44826.0</td>\n",
       "      <td>0.154108</td>\n",
       "      <td>2.434365</td>\n",
       "      <td>0.000000</td>\n",
       "      <td>0.000000</td>\n",
       "      <td>0.0000</td>\n",
       "      <td>0.000000</td>\n",
       "      <td>114.760000</td>\n",
       "    </tr>\n",
       "    <tr>\n",
       "      <th>UCity</th>\n",
       "      <td>44826.0</td>\n",
       "      <td>23.945568</td>\n",
       "      <td>13.557701</td>\n",
       "      <td>0.000000</td>\n",
       "      <td>18.500000</td>\n",
       "      <td>21.8000</td>\n",
       "      <td>26.200000</td>\n",
       "      <td>224.800000</td>\n",
       "    </tr>\n",
       "    <tr>\n",
       "      <th>UCityA</th>\n",
       "      <td>44826.0</td>\n",
       "      <td>1.109225</td>\n",
       "      <td>9.052614</td>\n",
       "      <td>0.000000</td>\n",
       "      <td>0.000000</td>\n",
       "      <td>0.0000</td>\n",
       "      <td>0.000000</td>\n",
       "      <td>207.262200</td>\n",
       "    </tr>\n",
       "    <tr>\n",
       "      <th>UHighway</th>\n",
       "      <td>44826.0</td>\n",
       "      <td>35.057721</td>\n",
       "      <td>12.741351</td>\n",
       "      <td>0.000000</td>\n",
       "      <td>28.000000</td>\n",
       "      <td>33.5000</td>\n",
       "      <td>39.600000</td>\n",
       "      <td>187.100000</td>\n",
       "    </tr>\n",
       "    <tr>\n",
       "      <th>UHighwayA</th>\n",
       "      <td>44826.0</td>\n",
       "      <td>0.888775</td>\n",
       "      <td>5.659244</td>\n",
       "      <td>0.000000</td>\n",
       "      <td>0.000000</td>\n",
       "      <td>0.0000</td>\n",
       "      <td>0.000000</td>\n",
       "      <td>173.143600</td>\n",
       "    </tr>\n",
       "    <tr>\n",
       "      <th>year</th>\n",
       "      <td>44826.0</td>\n",
       "      <td>2003.146121</td>\n",
       "      <td>11.956697</td>\n",
       "      <td>1984.000000</td>\n",
       "      <td>1992.000000</td>\n",
       "      <td>2004.0000</td>\n",
       "      <td>2014.000000</td>\n",
       "      <td>2023.000000</td>\n",
       "    </tr>\n",
       "    <tr>\n",
       "      <th>youSaveSpend</th>\n",
       "      <td>44826.0</td>\n",
       "      <td>-5648.518717</td>\n",
       "      <td>4876.706844</td>\n",
       "      <td>-41750.000000</td>\n",
       "      <td>-8000.000000</td>\n",
       "      <td>-5250.0000</td>\n",
       "      <td>-2750.000000</td>\n",
       "      <td>9500.000000</td>\n",
       "    </tr>\n",
       "    <tr>\n",
       "      <th>charge240b</th>\n",
       "      <td>44826.0</td>\n",
       "      <td>0.016363</td>\n",
       "      <td>0.330524</td>\n",
       "      <td>0.000000</td>\n",
       "      <td>0.000000</td>\n",
       "      <td>0.0000</td>\n",
       "      <td>0.000000</td>\n",
       "      <td>9.600000</td>\n",
       "    </tr>\n",
       "    <tr>\n",
       "      <th>phevCity</th>\n",
       "      <td>44826.0</td>\n",
       "      <td>0.266162</td>\n",
       "      <td>3.746679</td>\n",
       "      <td>0.000000</td>\n",
       "      <td>0.000000</td>\n",
       "      <td>0.0000</td>\n",
       "      <td>0.000000</td>\n",
       "      <td>97.000000</td>\n",
       "    </tr>\n",
       "    <tr>\n",
       "      <th>phevHwy</th>\n",
       "      <td>44826.0</td>\n",
       "      <td>0.268683</td>\n",
       "      <td>3.625835</td>\n",
       "      <td>0.000000</td>\n",
       "      <td>0.000000</td>\n",
       "      <td>0.0000</td>\n",
       "      <td>0.000000</td>\n",
       "      <td>81.000000</td>\n",
       "    </tr>\n",
       "    <tr>\n",
       "      <th>phevComb</th>\n",
       "      <td>44826.0</td>\n",
       "      <td>0.266118</td>\n",
       "      <td>3.668471</td>\n",
       "      <td>0.000000</td>\n",
       "      <td>0.000000</td>\n",
       "      <td>0.0000</td>\n",
       "      <td>0.000000</td>\n",
       "      <td>88.000000</td>\n",
       "    </tr>\n",
       "  </tbody>\n",
       "</table>\n",
       "</div>"
      ],
      "text/plain": [
       "                   count          mean           std           min  \\\n",
       "barrels08        44826.0     15.397271      4.282898      0.047081   \n",
       "barrelsA08       44826.0      0.191350      0.980593      0.000000   \n",
       "charge120        44826.0      0.000000      0.000000      0.000000   \n",
       "charge240        44826.0      0.089639      0.879534      0.000000   \n",
       "city08           44826.0     18.885647      9.532714      6.000000   \n",
       "city08U          44826.0      7.515860     13.465673      0.000000   \n",
       "cityA08          44826.0      0.836033      6.406175      0.000000   \n",
       "cityA08U         44826.0      0.703789      6.314449      0.000000   \n",
       "cityCD           44826.0      0.000508      0.037666      0.000000   \n",
       "cityE            44826.0      0.593403      5.244540      0.000000   \n",
       "cityUF           44826.0      0.003043      0.040527      0.000000   \n",
       "co2              44826.0    112.600500    190.696112     -1.000000   \n",
       "co2A             44826.0      5.895039     57.272016     -1.000000   \n",
       "co2TailpipeAGpm  44826.0     16.875250     91.631016      0.000000   \n",
       "co2TailpipeGpm   44826.0    459.745125    126.801181      0.000000   \n",
       "comb08           44826.0     21.112078      9.088326      7.000000   \n",
       "comb08U          44826.0      8.317922     13.982128      0.000000   \n",
       "combA08          44826.0      0.890019      6.368834      0.000000   \n",
       "combA08U         44826.0      0.737017      6.238241      0.000000   \n",
       "combE            44826.0      0.602807      5.270607      0.000000   \n",
       "combinedCD       44826.0      0.000396      0.032798      0.000000   \n",
       "combinedUF       44826.0      0.003014      0.040075      0.000000   \n",
       "cylinders        44451.0      5.710400      1.768548      2.000000   \n",
       "displ            44453.0      3.283304      1.357752      0.000000   \n",
       "engId            44826.0   7518.235020  16677.703498      0.000000   \n",
       "feScore          44826.0      0.728707      2.922459     -1.000000   \n",
       "fuelCost08       44826.0   3484.448757    969.794503    450.000000   \n",
       "fuelCostA08      44826.0    110.799536    595.626690      0.000000   \n",
       "ghgScore         44826.0      0.730112      2.929203     -1.000000   \n",
       "ghgScoreA        44826.0     -0.921831      0.651672     -1.000000   \n",
       "highway08        44826.0     24.966091      8.835479      9.000000   \n",
       "highway08U       44826.0      9.708028     15.302318      0.000000   \n",
       "highwayA08       44826.0      0.986994      6.491773      0.000000   \n",
       "highwayA08U      44826.0      0.803210      6.301896      0.000000   \n",
       "highwayCD        44826.0      0.000246      0.027264      0.000000   \n",
       "highwayE         44826.0      0.614548      5.323285      0.000000   \n",
       "highwayUF        44826.0      0.002974      0.039506      0.000000   \n",
       "hlv              44826.0      1.965422      5.907203      0.000000   \n",
       "hpv              44826.0      9.982733     27.740461      0.000000   \n",
       "id               44826.0  22560.373199  13089.703689      1.000000   \n",
       "lv2              44826.0      1.757975      4.302103      0.000000   \n",
       "lv4              44826.0      5.993151      9.533253      0.000000   \n",
       "pv2              44826.0     13.240017     30.788829      0.000000   \n",
       "pv4              44826.0     33.317115     45.953787      0.000000   \n",
       "range            44826.0      1.728305     20.985822      0.000000   \n",
       "rangeCity        44826.0      1.358174     18.961523      0.000000   \n",
       "rangeCityA       44826.0      0.164899      2.706430      0.000000   \n",
       "rangeHwy         44826.0      1.278243     18.095047      0.000000   \n",
       "rangeHwyA        44826.0      0.154108      2.434365      0.000000   \n",
       "UCity            44826.0     23.945568     13.557701      0.000000   \n",
       "UCityA           44826.0      1.109225      9.052614      0.000000   \n",
       "UHighway         44826.0     35.057721     12.741351      0.000000   \n",
       "UHighwayA        44826.0      0.888775      5.659244      0.000000   \n",
       "year             44826.0   2003.146121     11.956697   1984.000000   \n",
       "youSaveSpend     44826.0  -5648.518717   4876.706844 -41750.000000   \n",
       "charge240b       44826.0      0.016363      0.330524      0.000000   \n",
       "phevCity         44826.0      0.266162      3.746679      0.000000   \n",
       "phevHwy          44826.0      0.268683      3.625835      0.000000   \n",
       "phevComb         44826.0      0.266118      3.668471      0.000000   \n",
       "\n",
       "                          25%         50%           75%           max  \n",
       "barrels08           12.935217     14.8755     17.500588     42.501429  \n",
       "barrelsA08           0.000000      0.0000      0.000000     16.528333  \n",
       "charge120            0.000000      0.0000      0.000000      0.000000  \n",
       "charge240            0.000000      0.0000      0.000000     15.300000  \n",
       "city08              15.000000     17.0000     21.000000    150.000000  \n",
       "city08U              0.000000      0.0000     16.540575    150.195800  \n",
       "cityA08              0.000000      0.0000      0.000000    145.000000  \n",
       "cityA08U             0.000000      0.0000      0.000000    145.083500  \n",
       "cityCD               0.000000      0.0000      0.000000      5.350000  \n",
       "cityE                0.000000      0.0000      0.000000    122.000000  \n",
       "cityUF               0.000000      0.0000      0.000000      0.927000  \n",
       "co2                 -1.000000     -1.0000    292.000000    979.000000  \n",
       "co2A                -1.000000     -1.0000     -1.000000    713.000000  \n",
       "co2TailpipeAGpm      0.000000      0.0000      0.000000    713.000000  \n",
       "co2TailpipeGpm     386.391304    444.3500    522.764706   1269.571429  \n",
       "comb08              17.000000     20.0000     23.000000    142.000000  \n",
       "comb08U              0.000000      0.0000     18.951300    141.951200  \n",
       "combA08              0.000000      0.0000      0.000000    133.000000  \n",
       "combA08U             0.000000      0.0000      0.000000    133.266200  \n",
       "combE                0.000000      0.0000      0.000000    121.000000  \n",
       "combinedCD           0.000000      0.0000      0.000000      4.800000  \n",
       "combinedUF           0.000000      0.0000      0.000000      0.920000  \n",
       "cylinders            4.000000      6.0000      6.000000     16.000000  \n",
       "displ                2.200000      3.0000      4.200000      8.400000  \n",
       "engId                0.000000    165.0000   4110.000000  69102.000000  \n",
       "feScore             -1.000000     -1.0000      3.000000     10.000000  \n",
       "fuelCost08        2900.000000   3400.0000   3950.000000  10700.000000  \n",
       "fuelCostA08          0.000000      0.0000      0.000000   4550.000000  \n",
       "ghgScore            -1.000000     -1.0000      3.000000     10.000000  \n",
       "ghgScoreA           -1.000000     -1.0000     -1.000000      8.000000  \n",
       "highway08           20.000000     24.0000     28.000000    133.000000  \n",
       "highway08U           0.000000      0.0000     23.045300    133.026300  \n",
       "highwayA08           0.000000      0.0000      0.000000    121.000000  \n",
       "highwayA08U          0.000000      0.0000      0.000000    121.200500  \n",
       "highwayCD            0.000000      0.0000      0.000000      4.060000  \n",
       "highwayE             0.000000      0.0000      0.000000    120.000000  \n",
       "highwayUF            0.000000      0.0000      0.000000      0.910000  \n",
       "hlv                  0.000000      0.0000      0.000000     49.000000  \n",
       "hpv                  0.000000      0.0000      0.000000    195.000000  \n",
       "id               11207.250000  22418.5000  33925.750000  45259.000000  \n",
       "lv2                  0.000000      0.0000      0.000000     41.000000  \n",
       "lv4                  0.000000      0.0000     13.000000     55.000000  \n",
       "pv2                  0.000000      0.0000      0.000000    194.000000  \n",
       "pv4                  0.000000      0.0000     91.000000    192.000000  \n",
       "range                0.000000      0.0000      0.000000    520.000000  \n",
       "rangeCity            0.000000      0.0000      0.000000    520.800000  \n",
       "rangeCityA           0.000000      0.0000      0.000000    135.280000  \n",
       "rangeHwy             0.000000      0.0000      0.000000    520.500000  \n",
       "rangeHwyA            0.000000      0.0000      0.000000    114.760000  \n",
       "UCity               18.500000     21.8000     26.200000    224.800000  \n",
       "UCityA               0.000000      0.0000      0.000000    207.262200  \n",
       "UHighway            28.000000     33.5000     39.600000    187.100000  \n",
       "UHighwayA            0.000000      0.0000      0.000000    173.143600  \n",
       "year              1992.000000   2004.0000   2014.000000   2023.000000  \n",
       "youSaveSpend     -8000.000000  -5250.0000  -2750.000000   9500.000000  \n",
       "charge240b           0.000000      0.0000      0.000000      9.600000  \n",
       "phevCity             0.000000      0.0000      0.000000     97.000000  \n",
       "phevHwy              0.000000      0.0000      0.000000     81.000000  \n",
       "phevComb             0.000000      0.0000      0.000000     88.000000  "
      ]
     },
     "execution_count": 20,
     "metadata": {},
     "output_type": "execute_result"
    }
   ],
   "source": [
    "fueleco.describe().T"
   ]
  },
  {
   "cell_type": "code",
   "execution_count": 21,
   "id": "01e038ed-8007-46b5-9ae3-eae94acb9254",
   "metadata": {},
   "outputs": [
    {
     "data": {
      "text/plain": [
       "<AxesSubplot:xlabel='hpv', ylabel='Count'>"
      ]
     },
     "execution_count": 21,
     "metadata": {},
     "output_type": "execute_result"
    },
    {
     "data": {
      "image/png": "[encoded data removed]",
      "text/plain": [
       "<Figure size 720x576 with 1 Axes>"
      ]
     },
     "metadata": {
      "needs_background": "light"
     },
     "output_type": "display_data"
    }
   ],
   "source": [
    "fig, ax = plt.subplots(figsize=(10, 8))\n",
    "top_n = fueleco.trans_dscr.value_counts().index[:5]\n",
    "\n",
    "sns.histplot(x='hpv',\n",
    "             data=(fueleco[fueleco.trans_dscr.isin(top_n)]), hue='trans_dscr',\n",
    "             binwidth=2.5, ax=ax,\n",
    "            )"
   ]
  },
  {
   "cell_type": "code",
   "execution_count": 22,
   "id": "69750a43-5987-4424-86f9-5f92fca7dc8d",
   "metadata": {},
   "outputs": [
    {
     "data": {
      "text/plain": [
       "Index(['drive', 'eng_dscr', 'fuelType', 'fuelType1', 'make', 'model',\n",
       "       'mpgData', 'trany', 'VClass', 'guzzler', 'trans_dscr', 'tCharger',\n",
       "       'sCharger', 'atvType', 'fuelType2', 'rangeA', 'evMotor', 'mfrCode',\n",
       "       'c240Dscr', 'c240bDscr', 'createdOn', 'modifiedOn', 'startStop'],\n",
       "      dtype='object')"
      ]
     },
     "execution_count": 22,
     "metadata": {},
     "output_type": "execute_result"
    }
   ],
   "source": [
    "fueleco.select_dtypes(object).columns"
   ]
  },
  {
   "cell_type": "code",
   "execution_count": 23,
   "id": "e8d15e44-f784-4bcb-b991-2f9773191a09",
   "metadata": {},
   "outputs": [
    {
     "data": {
      "text/plain": [
       "29782"
      ]
     },
     "execution_count": 23,
     "metadata": {},
     "output_type": "execute_result"
    }
   ],
   "source": [
    "fueleco.trans_dscr.isna().sum()"
   ]
  },
  {
   "cell_type": "code",
   "execution_count": 24,
   "id": "0d7fae35-b70f-4916-913f-8dd882ba71a9",
   "metadata": {},
   "outputs": [
    {
     "data": {
      "text/plain": [
       "NaN                29782\n",
       "CLKUP               7809\n",
       "SIL                 2189\n",
       "2MODE CLKUP         1235\n",
       "Creeper              525\n",
       "3MODE CLKUP          517\n",
       "EMS 2MODE CLKUP      517\n",
       "2MODE                448\n",
       "2MODE 2LKUP          383\n",
       "EMS                  252\n",
       "3MODE                166\n",
       "CMODE                150\n",
       "CMODE CLKUP          130\n",
       "VMODE CLKUP          105\n",
       "SIL Creeper           72\n",
       "2LKUP                 63\n",
       "DC/FW                 53\n",
       "VLKUP                 52\n",
       "EMS CLKUP             50\n",
       "EMS 2MODE             46\n",
       "6MODE CLKUP           41\n",
       "4MODE                 35\n",
       "VMODE VLKUP           26\n",
       "2MODE 3LKUP           22\n",
       "2MODE DC/FW           19\n",
       "CMODE VLKUP           17\n",
       "3LKUP                 15\n",
       "EMS 3MODE             11\n",
       "Overdrive             10\n",
       "2MODE VLKUP            9\n",
       "Lockup                 9\n",
       "SIL EMS                7\n",
       "6MODE                  6\n",
       "4MODE CLKUP            6\n",
       "SIL 3MODE              6\n",
       "SIL 2MODE CLKUP        5\n",
       "3MODE VLKUP            5\n",
       "EMS 2MODE CLKU         5\n",
       "Mech Overdrive         3\n",
       "EMS 3MODE CLKUP        3\n",
       "Elec Overdrive         3\n",
       "EMS CMODE CLKUP        2\n",
       "SIL CMODE              2\n",
       "2MODE CLKUP FW         2\n",
       "SIL 3MODE CLKUP        2\n",
       "LONG RATIO             2\n",
       "3MODE 2LKUP            2\n",
       "VMODE                  2\n",
       "SIL CLKUP              1\n",
       "3MODE CLKUP FW         1\n",
       "fuel injection         1\n",
       "Lockup A3              1\n",
       "EMS 5MODE              1\n",
       "Name: trans_dscr, dtype: int64"
      ]
     },
     "execution_count": 24,
     "metadata": {},
     "output_type": "execute_result"
    }
   ],
   "source": [
    "fueleco.trans_dscr.value_counts(dropna=False)"
   ]
  },
  {
   "cell_type": "code",
   "execution_count": 25,
   "id": "396cdb25-cb99-4340-b1fd-8be5a0292f5c",
   "metadata": {},
   "outputs": [
    {
     "data": {
      "text/plain": [
       "<AxesSubplot:>"
      ]
     },
     "execution_count": 25,
     "metadata": {},
     "output_type": "execute_result"
    },
    {
     "data": {
      "image/png": "[encoded data removed]",
      "text/plain": [
       "<Figure size 432x288 with 1 Axes>"
      ]
     },
     "metadata": {
      "needs_background": "light"
     },
     "output_type": "display_data"
    }
   ],
   "source": [
    "fueleco.trans_dscr.value_counts(dropna=False).plot(kind='bar')"
   ]
  },
  {
   "cell_type": "code",
   "execution_count": 26,
   "id": "ff64d023-29dc-45e5-af87-644a145a64eb",
   "metadata": {},
   "outputs": [
    {
     "data": {
      "text/plain": [
       "<AxesSubplot:>"
      ]
     },
     "execution_count": 26,
     "metadata": {},
     "output_type": "execute_result"
    },
    {
     "data": {
      "image/png": "[encoded data removed]",
      "text/plain": [
       "<Figure size 432x288 with 1 Axes>"
      ]
     },
     "metadata": {
      "needs_background": "light"
     },
     "output_type": "display_data"
    }
   ],
   "source": [
    "fueleco.trans_dscr.value_counts(dropna=False)[:6].plot(kind='bar')"
   ]
  },
  {
   "cell_type": "code",
   "execution_count": 27,
   "id": "1a278859-9fad-458e-8677-3bd51b034a38",
   "metadata": {},
   "outputs": [
    {
     "data": {
      "text/plain": [
       "<AxesSubplot:>"
      ]
     },
     "execution_count": 27,
     "metadata": {},
     "output_type": "execute_result"
    },
    {
     "data": {
      "image/png": "[encoded data removed]",
      "text/plain": [
       "<Figure size 432x288 with 1 Axes>"
      ]
     },
     "metadata": {
      "needs_background": "light"
     },
     "output_type": "display_data"
    }
   ],
   "source": [
    "(\n",
    "fueleco.hpv[fueleco.hpv > 0].pipe(\n",
    "    lambda ser: pd.qcut(ser, q=10))\n",
    "    .value_counts()\n",
    "    .sort_index()\n",
    "    .plot.bar()\n",
    ")"
   ]
  },
  {
   "cell_type": "code",
   "execution_count": 28,
   "id": "521bba1e-2d07-4dad-8881-7e9c1396bd09",
   "metadata": {},
   "outputs": [
    {
     "data": {
      "text/plain": [
       "<AxesSubplot:>"
      ]
     },
     "execution_count": 28,
     "metadata": {},
     "output_type": "execute_result"
    },
    {
     "data": {
      "image/png": "[encoded data removed]",
      "text/plain": [
       "<Figure size 720x576 with 1 Axes>"
      ]
     },
     "metadata": {
      "needs_background": "light"
     },
     "output_type": "display_data"
    }
   ],
   "source": [
    "fig, ax = plt.subplots(figsize=(10,8))\n",
    "fueleco.hpv[fueleco.hpv > 0].hist(ax=ax, bins=40)"
   ]
  },
  {
   "cell_type": "code",
   "execution_count": 29,
   "id": "abfd8dfb-749d-43df-8e03-01ea47bdf943",
   "metadata": {},
   "outputs": [],
   "source": [
    "# fueleco.hpv[fueleco.hpv > 0].value_counts()"
   ]
  },
  {
   "cell_type": "code",
   "execution_count": 30,
   "id": "a7a6680d-aaba-497b-8444-596dbf9f5a78",
   "metadata": {},
   "outputs": [
    {
     "data": {
      "text/plain": [
       "<AxesSubplot:xlabel='Count', ylabel='hpv'>"
      ]
     },
     "execution_count": 30,
     "metadata": {},
     "output_type": "execute_result"
    },
    {
     "data": {
      "image/png": "[encoded data removed]",
      "text/plain": [
       "<Figure size 720x576 with 1 Axes>"
      ]
     },
     "metadata": {
      "needs_background": "light"
     },
     "output_type": "display_data"
    }
   ],
   "source": [
    "fig, ax = plt.subplots(figsize=(10,8))\n",
    "\n",
    "sns.histplot(data=fueleco, y='hpv', hue='trans_dscr', ax=ax, binwidth=1)"
   ]
  },
  {
   "cell_type": "code",
   "execution_count": 31,
   "id": "012df486-aeb3-4740-a597-63b956796e70",
   "metadata": {},
   "outputs": [
    {
     "data": {
      "text/plain": [
       "<AxesSubplot:xlabel='hpv'>"
      ]
     },
     "execution_count": 31,
     "metadata": {},
     "output_type": "execute_result"
    },
    {
     "data": {
      "image/png": "[encoded data removed]",
      "text/plain": [
       "<Figure size 720x720 with 3 Axes>"
      ]
     },
     "metadata": {
      "needs_background": "light"
     },
     "output_type": "display_data"
    }
   ],
   "source": [
    "fig, axs = plt.subplots(nrows=3, figsize=(10,10))\n",
    "\n",
    "hpv1 = fueleco.hpv[fueleco.hpv > 0]\n",
    "\n",
    "sns.boxplot(x=hpv1, ax=axs[0])\n",
    "sns.violinplot(x=hpv1, ax=axs[1])\n",
    "sns.boxenplot(x=hpv1, ax=axs[2])"
   ]
  },
  {
   "cell_type": "code",
   "execution_count": 32,
   "id": "9a399f4a-3260-4ca4-81d5-f7eb0f3df584",
   "metadata": {},
   "outputs": [
    {
     "data": {
      "text/plain": [
       "CLKUP              7809\n",
       "SIL                2189\n",
       "2MODE CLKUP        1235\n",
       "Creeper             525\n",
       "3MODE CLKUP         517\n",
       "EMS 2MODE CLKUP     517\n",
       "2MODE               448\n",
       "2MODE 2LKUP         383\n",
       "EMS                 252\n",
       "3MODE               166\n",
       "CMODE               150\n",
       "CMODE CLKUP         130\n",
       "VMODE CLKUP         105\n",
       "SIL Creeper          72\n",
       "2LKUP                63\n",
       "DC/FW                53\n",
       "VLKUP                52\n",
       "EMS CLKUP            50\n",
       "EMS 2MODE            46\n",
       "6MODE CLKUP          41\n",
       "4MODE                35\n",
       "VMODE VLKUP          26\n",
       "2MODE 3LKUP          22\n",
       "2MODE DC/FW          19\n",
       "CMODE VLKUP          17\n",
       "3LKUP                15\n",
       "EMS 3MODE            11\n",
       "Overdrive            10\n",
       "Lockup                9\n",
       "2MODE VLKUP           9\n",
       "SIL EMS               7\n",
       "SIL 3MODE             6\n",
       "4MODE CLKUP           6\n",
       "6MODE                 6\n",
       "SIL 2MODE CLKUP       5\n",
       "EMS 2MODE CLKU        5\n",
       "3MODE VLKUP           5\n",
       "Elec Overdrive        3\n",
       "Mech Overdrive        3\n",
       "EMS 3MODE CLKUP       3\n",
       "SIL CMODE             2\n",
       "EMS CMODE CLKUP       2\n",
       "2MODE CLKUP FW        2\n",
       "SIL 3MODE CLKUP       2\n",
       "LONG RATIO            2\n",
       "3MODE 2LKUP           2\n",
       "VMODE                 2\n",
       "SIL CLKUP             1\n",
       "Lockup A3             1\n",
       "3MODE CLKUP FW        1\n",
       "fuel injection        1\n",
       "EMS 5MODE             1\n",
       "Name: trans_dscr, dtype: int64"
      ]
     },
     "execution_count": 32,
     "metadata": {},
     "output_type": "execute_result"
    }
   ],
   "source": [
    "fueleco.trans_dscr.value_counts()"
   ]
  },
  {
   "cell_type": "code",
   "execution_count": 33,
   "id": "3877f7f4-1a0e-4594-9fa9-8a5e1825ac55",
   "metadata": {},
   "outputs": [
    {
     "data": {
      "text/html": [
       "<div>\n",
       "<style scoped>\n",
       "    .dataframe tbody tr th:only-of-type {\n",
       "        vertical-align: middle;\n",
       "    }\n",
       "\n",
       "    .dataframe tbody tr th {\n",
       "        vertical-align: top;\n",
       "    }\n",
       "\n",
       "    .dataframe thead th {\n",
       "        text-align: right;\n",
       "    }\n",
       "</style>\n",
       "<table border=\"1\" class=\"dataframe\">\n",
       "  <thead>\n",
       "    <tr style=\"text-align: right;\">\n",
       "      <th></th>\n",
       "      <th>mean</th>\n",
       "      <th>std</th>\n",
       "      <th>min</th>\n",
       "      <th>max</th>\n",
       "    </tr>\n",
       "    <tr>\n",
       "      <th>trans_dscr</th>\n",
       "      <th></th>\n",
       "      <th></th>\n",
       "      <th></th>\n",
       "      <th></th>\n",
       "    </tr>\n",
       "  </thead>\n",
       "  <tbody>\n",
       "    <tr>\n",
       "      <th>2MODE CLKUP</th>\n",
       "      <td>16.923887</td>\n",
       "      <td>2.439021</td>\n",
       "      <td>9</td>\n",
       "      <td>27</td>\n",
       "    </tr>\n",
       "    <tr>\n",
       "      <th>CLKUP</th>\n",
       "      <td>15.947881</td>\n",
       "      <td>3.150994</td>\n",
       "      <td>8</td>\n",
       "      <td>29</td>\n",
       "    </tr>\n",
       "    <tr>\n",
       "      <th>Creeper</th>\n",
       "      <td>13.019048</td>\n",
       "      <td>2.414891</td>\n",
       "      <td>8</td>\n",
       "      <td>18</td>\n",
       "    </tr>\n",
       "    <tr>\n",
       "      <th>SIL</th>\n",
       "      <td>19.093193</td>\n",
       "      <td>5.893750</td>\n",
       "      <td>11</td>\n",
       "      <td>49</td>\n",
       "    </tr>\n",
       "  </tbody>\n",
       "</table>\n",
       "</div>"
      ],
      "text/plain": [
       "                  mean       std  min  max\n",
       "trans_dscr                                \n",
       "2MODE CLKUP  16.923887  2.439021    9   27\n",
       "CLKUP        15.947881  3.150994    8   29\n",
       "Creeper      13.019048  2.414891    8   18\n",
       "SIL          19.093193  5.893750   11   49"
      ]
     },
     "execution_count": 33,
     "metadata": {},
     "output_type": "execute_result"
    }
   ],
   "source": [
    "mask = fueleco.trans_dscr.isin(['CLKUP', 'SIL', '2MODE CLKUP', 'Creeper'])\n",
    "\n",
    "fueleco[mask].groupby('trans_dscr').city08.agg(['mean', 'std', 'min', 'max'])"
   ]
  },
  {
   "cell_type": "code",
   "execution_count": 34,
   "id": "4641e1e7-c350-4e27-b688-5a60d32a5220",
   "metadata": {},
   "outputs": [
    {
     "data": {
      "text/plain": [
       "<seaborn.axisgrid.FacetGrid at 0x273e6836220>"
      ]
     },
     "execution_count": 34,
     "metadata": {},
     "output_type": "execute_result"
    },
    {
     "data": {
      "image/png": "[encoded data removed]",
      "text/plain": [
       "<Figure size 360x360 with 1 Axes>"
      ]
     },
     "metadata": {
      "needs_background": "light"
     },
     "output_type": "display_data"
    }
   ],
   "source": [
    "sns.catplot(x='trans_dscr', y='city08', data=fueleco[mask], kind='box')"
   ]
  },
  {
   "cell_type": "code",
   "execution_count": 35,
   "id": "109022ae-71f7-4a2a-b140-8461a062860b",
   "metadata": {},
   "outputs": [
    {
     "data": {
      "text/plain": [
       "trans_dscr\n",
       "2MODE CLKUP    1235\n",
       "CLKUP          7809\n",
       "Creeper         525\n",
       "SIL            2189\n",
       "Name: city08, dtype: int64"
      ]
     },
     "execution_count": 35,
     "metadata": {},
     "output_type": "execute_result"
    }
   ],
   "source": [
    "fueleco[mask].groupby('trans_dscr').city08.count()"
   ]
  },
  {
   "cell_type": "code",
   "execution_count": 36,
   "id": "461e5de1-65e2-481e-a68d-6c0c764fb549",
   "metadata": {},
   "outputs": [],
   "source": [
    "# g=sns.catplot(x='trans_dscr', y='city08', data=fueleco[mask], kind='box')\n",
    "# sns.swarmplot(x='trans_dscr', y='city08', data=fueleco[mask], color='k', size=1, ax=g.ax, alpha=.5)"
   ]
  },
  {
   "cell_type": "code",
   "execution_count": 59,
   "id": "ef0081c6-10f6-45ec-b0a0-9c314cd9af19",
   "metadata": {},
   "outputs": [
    {
     "data": {
      "text/plain": [
       "2004    618\n",
       "2005    591\n",
       "2008    582\n",
       "2006    569\n",
       "2003    566\n",
       "2007    565\n",
       "2009    551\n",
       "1995    521\n",
       "2002    513\n",
       "1994    497\n",
       "1991    492\n",
       "1993    485\n",
       "1992    472\n",
       "2001    472\n",
       "1999    467\n",
       "2000    462\n",
       "1989    440\n",
       "1990    436\n",
       "1996    430\n",
       "1998    425\n",
       "1997    412\n",
       "1988    338\n",
       "1985    295\n",
       "1987    259\n",
       "1986    245\n",
       "1984     54\n",
       "2010      1\n",
       "Name: year, dtype: int64"
      ]
     },
     "execution_count": 59,
     "metadata": {},
     "output_type": "execute_result"
    }
   ],
   "source": [
    "# fueleco[['trans_dscr','city08','year']]\n",
    "mask = fueleco.trans_dscr.isin(['CLKUP', 'SIL', '2MODE CLKUP', 'Creeper'])\n",
    "fueleco[mask]['year'].value_counts()"
   ]
  },
  {
   "cell_type": "code",
   "execution_count": 60,
   "id": "56155961-efe4-4a8a-9361-6597f25deb2c",
   "metadata": {},
   "outputs": [
    {
     "data": {
      "text/plain": [
       "<seaborn.axisgrid.FacetGrid at 0x273e0357af0>"
      ]
     },
     "execution_count": 60,
     "metadata": {},
     "output_type": "execute_result"
    },
    {
     "data": {
      "image/png": "[encoded data removed]",
      "text/plain": [
       "<Figure size 720x720 with 4 Axes>"
      ]
     },
     "metadata": {
      "needs_background": "light"
     },
     "output_type": "display_data"
    }
   ],
   "source": [
    "\n",
    "sns.catplot(\n",
    "    x='trans_dscr',\n",
    "    y='city08',\n",
    "    data=fueleco[mask],\n",
    "    kind='box',\n",
    "    col='year',\n",
    "    col_order=[2000, 2002, 2004, 2006],\n",
    "    col_wrap=2 \n",
    ")"
   ]
  },
  {
   "cell_type": "code",
   "execution_count": 61,
   "id": "2da2bdaa-eb4c-4010-a9ab-e811f3294fc6",
   "metadata": {},
   "outputs": [
    {
     "data": {
      "text/plain": [
       "<seaborn.axisgrid.FacetGrid at 0x273ea11d7f0>"
      ]
     },
     "execution_count": 61,
     "metadata": {},
     "output_type": "execute_result"
    },
    {
     "data": {
      "image/png": "[encoded data removed]",
      "text/plain": [
       "<Figure size 1501.5x720 with 1 Axes>"
      ]
     },
     "metadata": {
      "needs_background": "light"
     },
     "output_type": "display_data"
    }
   ],
   "source": [
    "\n",
    "sns.catplot(\n",
    "    x='trans_dscr',\n",
    "    y='city08',\n",
    "    data=fueleco[mask],\n",
    "    kind='box',\n",
    "    hue='year', \n",
    "    hue_order=[2000, 2002, 2004, 2006],\n",
    "    height=10, aspect=2 \n",
    ")"
   ]
  },
  {
   "cell_type": "code",
   "execution_count": 62,
   "id": "4df794fb-50dd-45e1-9ab0-47dcfc141b09",
   "metadata": {},
   "outputs": [
    {
     "data": {
      "text/plain": [
       "56.99215818323506"
      ]
     },
     "execution_count": 62,
     "metadata": {},
     "output_type": "execute_result"
    }
   ],
   "source": [
    "fueleco.city08.cov(fueleco.hpv)"
   ]
  },
  {
   "cell_type": "code",
   "execution_count": 63,
   "id": "8e5a5d71-b2c1-4345-8946-392679102dfb",
   "metadata": {},
   "outputs": [
    {
     "data": {
      "text/plain": [
       "114.86680562926388"
      ]
     },
     "execution_count": 63,
     "metadata": {},
     "output_type": "execute_result"
    }
   ],
   "source": [
    "fueleco.city08.cov(fueleco.UHighway)"
   ]
  },
  {
   "cell_type": "code",
   "execution_count": 65,
   "id": "7a0ed9c2-96f8-46ec-9c36-e9265d9d569d",
   "metadata": {},
   "outputs": [
    {
     "data": {
      "text/plain": [
       "-6.232800758682249"
      ]
     },
     "execution_count": 65,
     "metadata": {},
     "output_type": "execute_result"
    }
   ],
   "source": [
    "fueleco.city08.cov(fueleco.cylinders)"
   ]
  },
  {
   "cell_type": "code",
   "execution_count": 69,
   "id": "7c1482ed-7ec0-473c-b273-c4abaf4ddece",
   "metadata": {},
   "outputs": [
    {
     "data": {
      "text/plain": [
       "0.9457198216035289"
      ]
     },
     "execution_count": 69,
     "metadata": {},
     "output_type": "execute_result"
    }
   ],
   "source": [
    "fueleco.city08.corr(fueleco.UHighway)"
   ]
  },
  {
   "cell_type": "code",
   "execution_count": 73,
   "id": "92990dbf-6f0d-41da-b18a-2ab82dcffe51",
   "metadata": {},
   "outputs": [
    {
     "data": {
      "text/html": [
       "<div>\n",
       "<style scoped>\n",
       "    .dataframe tbody tr th:only-of-type {\n",
       "        vertical-align: middle;\n",
       "    }\n",
       "\n",
       "    .dataframe tbody tr th {\n",
       "        vertical-align: top;\n",
       "    }\n",
       "\n",
       "    .dataframe thead th {\n",
       "        text-align: right;\n",
       "    }\n",
       "</style>\n",
       "<table border=\"1\" class=\"dataframe\">\n",
       "  <thead>\n",
       "    <tr style=\"text-align: right;\">\n",
       "      <th></th>\n",
       "      <th>city08</th>\n",
       "      <th>hpv</th>\n",
       "      <th>UHighway</th>\n",
       "    </tr>\n",
       "  </thead>\n",
       "  <tbody>\n",
       "    <tr>\n",
       "      <th>city08</th>\n",
       "      <td>1.000000</td>\n",
       "      <td>0.215519</td>\n",
       "      <td>0.945720</td>\n",
       "    </tr>\n",
       "    <tr>\n",
       "      <th>hpv</th>\n",
       "      <td>0.215519</td>\n",
       "      <td>1.000000</td>\n",
       "      <td>0.250936</td>\n",
       "    </tr>\n",
       "    <tr>\n",
       "      <th>UHighway</th>\n",
       "      <td>0.945720</td>\n",
       "      <td>0.250936</td>\n",
       "      <td>1.000000</td>\n",
       "    </tr>\n",
       "  </tbody>\n",
       "</table>\n",
       "</div>"
      ],
      "text/plain": [
       "            city08       hpv  UHighway\n",
       "city08    1.000000  0.215519  0.945720\n",
       "hpv       0.215519  1.000000  0.250936\n",
       "UHighway  0.945720  0.250936  1.000000"
      ]
     },
     "execution_count": 73,
     "metadata": {},
     "output_type": "execute_result"
    }
   ],
   "source": [
    "fueleco[['city08', 'hpv', 'UHighway']].corr()\n",
    "# type(fueleco[['city08', 'hpv', 'UHighway']].corr())"
   ]
  },
  {
   "cell_type": "code",
   "execution_count": 75,
   "id": "058cf69e-6459-43a9-aa83-760d2e778f6e",
   "metadata": {},
   "outputs": [
    {
     "data": {
      "text/plain": [
       "<AxesSubplot:>"
      ]
     },
     "execution_count": 75,
     "metadata": {},
     "output_type": "execute_result"
    },
    {
     "data": {
      "image/png": "[encoded data removed]",
      "text/plain": [
       "<Figure size 576x576 with 2 Axes>"
      ]
     },
     "metadata": {
      "needs_background": "light"
     },
     "output_type": "display_data"
    }
   ],
   "source": [
    "fig, ax = plt.subplots(figsize=(8,8))\n",
    "corr = fueleco[['city08', 'hpv', 'UHighway']].corr()\n",
    "\n",
    "mask = np.zeros_like(corr, dtype=bool)\n",
    "mask[np.triu_indices_from(mask)] = True\n",
    "sns.heatmap(\n",
    "    corr,\n",
    "#     mask=mask,\n",
    "    fmt='.2f',\n",
    "    annot=True,\n",
    "    ax=ax,\n",
    "    cmap='RdBu',\n",
    "    vmin=-1,\n",
    "    vmax=1,\n",
    "    square=True\n",
    ")"
   ]
  },
  {
   "cell_type": "code",
   "execution_count": 76,
   "id": "4cd3e9ad-75b4-4460-8298-52d1291473a8",
   "metadata": {},
   "outputs": [
    {
     "data": {
      "text/plain": [
       "<AxesSubplot:>"
      ]
     },
     "execution_count": 76,
     "metadata": {},
     "output_type": "execute_result"
    },
    {
     "data": {
      "image/png": "[encoded data removed]",
      "text/plain": [
       "<Figure size 576x576 with 2 Axes>"
      ]
     },
     "metadata": {
      "needs_background": "light"
     },
     "output_type": "display_data"
    }
   ],
   "source": [
    "fig, ax = plt.subplots(figsize=(8,8))\n",
    "corr = fueleco[['city08', 'hpv', 'cylinders']].corr()\n",
    "\n",
    "mask = np.zeros_like(corr, dtype=bool)\n",
    "mask[np.triu_indices_from(mask)] = True\n",
    "sns.heatmap(\n",
    "    corr,\n",
    "#     mask=mask,\n",
    "    fmt='.2f',\n",
    "    annot=True,\n",
    "    ax=ax,\n",
    "    cmap='RdBu',\n",
    "    vmin=-1,\n",
    "    vmax=1,\n",
    "    square=True\n",
    ")"
   ]
  },
  {
   "cell_type": "code",
   "execution_count": null,
   "id": "5207d49c-caa4-427a-ab12-56388ca960bd",
   "metadata": {},
   "outputs": [],
   "source": []
  }
 ],
 "metadata": {
  "kernelspec": {
   "display_name": "Python 3",
   "language": "python",
   "name": "python3"
  },
  "language_info": {
   "codemirror_mode": {
    "name": "ipython",
    "version": 3
   },
   "file_extension": ".py",
   "mimetype": "text/x-python",
   "name": "python",
   "nbconvert_exporter": "python",
   "pygments_lexer": "ipython3",
   "version": "3.8.8"
  }
 },
 "nbformat": 4,
 "nbformat_minor": 5
}
