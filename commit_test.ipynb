{
 "cells": [
  {
   "cell_type": "code",
   "execution_count": 1,
   "id": "51730d54-3697-4898-9654-94023a508b56",
   "metadata": {},
   "outputs": [
    {
     "name": "stdout",
     "output_type": "stream",
     "text": [
      "Hello World\n"
     ]
    }
   ],
   "source": [
    "print('Hello World')"
   ]
  },
  {
   "cell_type": "code",
   "execution_count": 2,
   "id": "94da1d28-0894-42a7-ae7d-e16769b7db7c",
   "metadata": {},
   "outputs": [
    {
     "name": "stdout",
     "output_type": "stream",
     "text": [
      "Hello World2\n"
     ]
    }
   ],
   "source": [
    "print('Hello World2')"
   ]
  },
  {
   "cell_type": "code",
   "execution_count": 3,
   "id": "2a21a25d-0dbb-4578-8ba9-52e5dbd03656",
   "metadata": {},
   "outputs": [
    {
     "name": "stdout",
     "output_type": "stream",
     "text": [
      "Hello World3\n"
     ]
    }
   ],
   "source": [
    "print('Hello World3')"
   ]
  },
  {
   "cell_type": "code",
   "execution_count": null,
   "id": "1a3dea57-1c82-47aa-8a59-2d242626a851",
   "metadata": {},
   "outputs": [],
   "source": []
  }
 ],
 "metadata": {
  "kernelspec": {
   "display_name": "Python 3 (ipykernel)",
   "language": "python",
   "name": "python3"
  },
  "language_info": {
   "codemirror_mode": {
    "name": "ipython",
    "version": 3
   },
   "file_extension": ".py",
   "mimetype": "text/x-python",
   "name": "python",
   "nbconvert_exporter": "python",
   "pygments_lexer": "ipython3",
   "version": "3.9.7"
  }
 },
 "nbformat": 4,
 "nbformat_minor": 5
}
