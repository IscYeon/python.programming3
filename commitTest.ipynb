{
 "cells": [
  {
   "cell_type": "code",
   "execution_count": 1,
   "id": "7d87ad66-992b-4b1a-be33-574ed281d014",
   "metadata": {},
   "outputs": [
    {
     "name": "stdout",
     "output_type": "stream",
     "text": [
      "hello world1111\n"
     ]
    }
   ],
   "source": [
    "print('hello world1111')"
   ]
  },
  {
   "cell_type": "code",
   "execution_count": null,
   "id": "5009f7cd-d15b-4bfe-976d-c1c4caa5bdf4",
   "metadata": {},
   "outputs": [],
   "source": []
  }
 ],
 "metadata": {
  "kernelspec": {
   "display_name": "Python 3 (ipykernel)",
   "language": "python",
   "name": "python3"
  },
  "language_info": {
   "codemirror_mode": {
    "name": "ipython",
    "version": 3
   },
   "file_extension": ".py",
   "mimetype": "text/x-python",
   "name": "python",
   "nbconvert_exporter": "python",
   "pygments_lexer": "ipython3",
   "version": "3.9.7"
  }
 },
 "nbformat": 4,
 "nbformat_minor": 5
}
