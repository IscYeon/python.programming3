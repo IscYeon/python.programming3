{
 "cells": [
  {
   "cell_type": "code",
   "execution_count": 1,
   "id": "4561b2f4-21c5-477e-b132-9ea52ce8d3ab",
   "metadata": {},
   "outputs": [
    {
     "name": "stdout",
     "output_type": "stream",
     "text": [
      "hello world1111\n"
     ]
    }
   ],
   "source": [
    "print('hello world1111')"
   ]
  },
  {
   "cell_type": "code",
   "execution_count": null,
   "id": "04effbf5-5aa5-4796-94e5-c301e9f4178d",
   "metadata": {},
   "outputs": [],
   "source": []
  }
 ],
 "metadata": {
  "kernelspec": {
   "display_name": "Python 3 (ipykernel)",
   "language": "python",
   "name": "python3"
  },
  "language_info": {
   "codemirror_mode": {
    "name": "ipython",
    "version": 3
   },
   "file_extension": ".py",
   "mimetype": "text/x-python",
   "name": "python",
   "nbconvert_exporter": "python",
   "pygments_lexer": "ipython3",
   "version": "3.9.7"
  }
 },
 "nbformat": 4,
 "nbformat_minor": 5
}
