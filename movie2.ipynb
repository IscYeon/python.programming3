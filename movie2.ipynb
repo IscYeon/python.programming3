{
 "cells": [
  {
   "cell_type": "code",
   "execution_count": 1,
   "id": "665770bf-e906-4759-8581-3672b0cd134a",
   "metadata": {},
   "outputs": [],
   "source": [
    "import pandas as pd\n",
    "import numpy as np"
   ]
  },
  {
   "cell_type": "code",
   "execution_count": 2,
   "id": "04b3fbc3-bc1a-4df6-b739-c02c9c76fe8d",
   "metadata": {},
   "outputs": [
    {
     "name": "stdout",
     "output_type": "stream",
     "text": [
      "<class 'pandas.core.frame.DataFrame'>\n",
      "RangeIndex: 4916 entries, 0 to 4915\n",
      "Data columns (total 28 columns):\n",
      " #   Column                     Non-Null Count  Dtype  \n",
      "---  ------                     --------------  -----  \n",
      " 0   color                      4897 non-null   object \n",
      " 1   director_name              4814 non-null   object \n",
      " 2   num_critic_for_reviews     4867 non-null   float64\n",
      " 3   duration                   4901 non-null   float64\n",
      " 4   director_facebook_likes    4814 non-null   float64\n",
      " 5   actor_3_facebook_likes     4893 non-null   float64\n",
      " 6   actor_2_name               4903 non-null   object \n",
      " 7   actor_1_facebook_likes     4909 non-null   float64\n",
      " 8   gross                      4054 non-null   float64\n",
      " 9   genres                     4916 non-null   object \n",
      " 10  actor_1_name               4909 non-null   object \n",
      " 11  movie_title                4916 non-null   object \n",
      " 12  num_voted_users            4916 non-null   int64  \n",
      " 13  cast_total_facebook_likes  4916 non-null   int64  \n",
      " 14  actor_3_name               4893 non-null   object \n",
      " 15  facenumber_in_poster       4903 non-null   float64\n",
      " 16  plot_keywords              4764 non-null   object \n",
      " 17  movie_imdb_link            4916 non-null   object \n",
      " 18  num_user_for_reviews       4895 non-null   float64\n",
      " 19  language                   4904 non-null   object \n",
      " 20  country                    4911 non-null   object \n",
      " 21  content_rating             4616 non-null   object \n",
      " 22  budget                     4432 non-null   float64\n",
      " 23  title_year                 4810 non-null   float64\n",
      " 24  actor_2_facebook_likes     4903 non-null   float64\n",
      " 25  imdb_score                 4916 non-null   float64\n",
      " 26  aspect_ratio               4590 non-null   float64\n",
      " 27  movie_facebook_likes       4916 non-null   int64  \n",
      "dtypes: float64(13), int64(3), object(12)\n",
      "memory usage: 1.1+ MB\n"
     ]
    }
   ],
   "source": [
    "movie = pd.read_csv('./data/movie.csv')\n",
    "movie.info()"
   ]
  },
  {
   "cell_type": "code",
   "execution_count": 3,
   "id": "4bf05681-8034-4509-b182-853e9f735627",
   "metadata": {},
   "outputs": [],
   "source": [
    "movie1 = movie.iloc[:, :11].fillna(0)"
   ]
  },
  {
   "cell_type": "code",
   "execution_count": 4,
   "id": "2a3ee941-cad2-417b-85b2-15295bfb202e",
   "metadata": {},
   "outputs": [
    {
     "name": "stdout",
     "output_type": "stream",
     "text": [
      "<class 'pandas.core.frame.DataFrame'>\n",
      "RangeIndex: 4916 entries, 0 to 4915\n",
      "Data columns (total 11 columns):\n",
      " #   Column                   Non-Null Count  Dtype  \n",
      "---  ------                   --------------  -----  \n",
      " 0   color                    4916 non-null   object \n",
      " 1   director_name            4916 non-null   object \n",
      " 2   num_critic_for_reviews   4916 non-null   float64\n",
      " 3   duration                 4916 non-null   float64\n",
      " 4   director_facebook_likes  4916 non-null   float64\n",
      " 5   actor_3_facebook_likes   4916 non-null   float64\n",
      " 6   actor_2_name             4916 non-null   object \n",
      " 7   actor_1_facebook_likes   4916 non-null   float64\n",
      " 8   gross                    4916 non-null   float64\n",
      " 9   genres                   4916 non-null   object \n",
      " 10  actor_1_name             4916 non-null   object \n",
      "dtypes: float64(6), object(5)\n",
      "memory usage: 422.6+ KB\n"
     ]
    }
   ],
   "source": [
    "movie1.info()"
   ]
  },
  {
   "cell_type": "code",
   "execution_count": 5,
   "id": "d5aafdd1-eb00-44d3-b132-7b6c32db354d",
   "metadata": {},
   "outputs": [
    {
     "data": {
      "text/plain": [
       "Index                         128\n",
       "color                      306262\n",
       "director_name              343388\n",
       "num_critic_for_reviews      39328\n",
       "duration                    39328\n",
       "director_facebook_likes     39328\n",
       "actor_3_facebook_likes      39328\n",
       "actor_2_name               346635\n",
       "actor_1_facebook_likes      39328\n",
       "gross                       39328\n",
       "genres                     379929\n",
       "actor_1_name               346599\n",
       "dtype: int64"
      ]
     },
     "execution_count": 5,
     "metadata": {},
     "output_type": "execute_result"
    }
   ],
   "source": [
    "movie1.memory_usage(deep=True)"
   ]
  },
  {
   "cell_type": "code",
   "execution_count": 6,
   "id": "43ccaa90-5eac-43e2-bb90-8529e3623fe5",
   "metadata": {},
   "outputs": [
    {
     "data": {
      "text/html": [
       "<div>\n",
       "<style scoped>\n",
       "    .dataframe tbody tr th:only-of-type {\n",
       "        vertical-align: middle;\n",
       "    }\n",
       "\n",
       "    .dataframe tbody tr th {\n",
       "        vertical-align: top;\n",
       "    }\n",
       "\n",
       "    .dataframe thead th {\n",
       "        text-align: right;\n",
       "    }\n",
       "</style>\n",
       "<table border=\"1\" class=\"dataframe\">\n",
       "  <thead>\n",
       "    <tr style=\"text-align: right;\">\n",
       "      <th></th>\n",
       "      <th>count</th>\n",
       "      <th>mean</th>\n",
       "      <th>std</th>\n",
       "      <th>min</th>\n",
       "      <th>25%</th>\n",
       "      <th>50%</th>\n",
       "      <th>75%</th>\n",
       "      <th>max</th>\n",
       "    </tr>\n",
       "  </thead>\n",
       "  <tbody>\n",
       "    <tr>\n",
       "      <th>num_critic_for_reviews</th>\n",
       "      <td>4916.0</td>\n",
       "      <td>1.366135e+02</td>\n",
       "      <td>1.204214e+02</td>\n",
       "      <td>0.0</td>\n",
       "      <td>47.00</td>\n",
       "      <td>106.5</td>\n",
       "      <td>191.00</td>\n",
       "      <td>813.0</td>\n",
       "    </tr>\n",
       "    <tr>\n",
       "      <th>duration</th>\n",
       "      <td>4916.0</td>\n",
       "      <td>1.067640e+02</td>\n",
       "      <td>2.592923e+01</td>\n",
       "      <td>0.0</td>\n",
       "      <td>93.00</td>\n",
       "      <td>103.0</td>\n",
       "      <td>118.00</td>\n",
       "      <td>511.0</td>\n",
       "    </tr>\n",
       "    <tr>\n",
       "      <th>director_facebook_likes</th>\n",
       "      <td>4916.0</td>\n",
       "      <td>6.766770e+02</td>\n",
       "      <td>2.805134e+03</td>\n",
       "      <td>0.0</td>\n",
       "      <td>6.00</td>\n",
       "      <td>44.0</td>\n",
       "      <td>188.00</td>\n",
       "      <td>23000.0</td>\n",
       "    </tr>\n",
       "    <tr>\n",
       "      <th>actor_3_facebook_likes</th>\n",
       "      <td>4916.0</td>\n",
       "      <td>6.283228e+02</td>\n",
       "      <td>1.622638e+03</td>\n",
       "      <td>0.0</td>\n",
       "      <td>129.00</td>\n",
       "      <td>362.0</td>\n",
       "      <td>631.00</td>\n",
       "      <td>23000.0</td>\n",
       "    </tr>\n",
       "    <tr>\n",
       "      <th>actor_1_facebook_likes</th>\n",
       "      <td>4916.0</td>\n",
       "      <td>6.485241e+03</td>\n",
       "      <td>1.509821e+04</td>\n",
       "      <td>0.0</td>\n",
       "      <td>606.00</td>\n",
       "      <td>981.5</td>\n",
       "      <td>11000.00</td>\n",
       "      <td>640000.0</td>\n",
       "    </tr>\n",
       "    <tr>\n",
       "      <th>gross</th>\n",
       "      <td>4916.0</td>\n",
       "      <td>3.929025e+07</td>\n",
       "      <td>6.380675e+07</td>\n",
       "      <td>0.0</td>\n",
       "      <td>285641.25</td>\n",
       "      <td>14914785.0</td>\n",
       "      <td>50875351.25</td>\n",
       "      <td>760505847.0</td>\n",
       "    </tr>\n",
       "  </tbody>\n",
       "</table>\n",
       "</div>"
      ],
      "text/plain": [
       "                          count          mean           std  min        25%  \\\n",
       "num_critic_for_reviews   4916.0  1.366135e+02  1.204214e+02  0.0      47.00   \n",
       "duration                 4916.0  1.067640e+02  2.592923e+01  0.0      93.00   \n",
       "director_facebook_likes  4916.0  6.766770e+02  2.805134e+03  0.0       6.00   \n",
       "actor_3_facebook_likes   4916.0  6.283228e+02  1.622638e+03  0.0     129.00   \n",
       "actor_1_facebook_likes   4916.0  6.485241e+03  1.509821e+04  0.0     606.00   \n",
       "gross                    4916.0  3.929025e+07  6.380675e+07  0.0  285641.25   \n",
       "\n",
       "                                50%          75%          max  \n",
       "num_critic_for_reviews        106.5       191.00        813.0  \n",
       "duration                      103.0       118.00        511.0  \n",
       "director_facebook_likes        44.0       188.00      23000.0  \n",
       "actor_3_facebook_likes        362.0       631.00      23000.0  \n",
       "actor_1_facebook_likes        981.5     11000.00     640000.0  \n",
       "gross                    14914785.0  50875351.25  760505847.0  "
      ]
     },
     "execution_count": 6,
     "metadata": {},
     "output_type": "execute_result"
    }
   ],
   "source": [
    "movie1.describe(include=float).T"
   ]
  },
  {
   "cell_type": "code",
   "execution_count": 7,
   "id": "9531c360-0cf5-416b-948d-49df2b64776a",
   "metadata": {},
   "outputs": [
    {
     "data": {
      "text/plain": [
       "finfo(resolution=0.001, min=-6.55040e+04, max=6.55040e+04, dtype=float16)"
      ]
     },
     "execution_count": 7,
     "metadata": {},
     "output_type": "execute_result"
    }
   ],
   "source": [
    "# np.finfo('float32')\n",
    "np.finfo('float16')"
   ]
  },
  {
   "cell_type": "code",
   "execution_count": 8,
   "id": "ea469a0a-cb06-4986-a1d1-90b7f94ad196",
   "metadata": {},
   "outputs": [],
   "source": [
    "# movie1['num_critic_for_reviews'] = movie1['num_critic_for_reviews'].astype(np.float16)\n",
    "# movie1['duration'] = movie1['duration'].astype(np.float16)\n",
    "\n",
    "movie1['num_critic_for_reviews'] = movie1['num_critic_for_reviews'].astype(np.float32)\n",
    "movie1['duration'] = movie1['duration'].astype(np.float32)\n",
    "movie1['director_facebook_likes'] = movie1['director_facebook_likes'].astype(np.float32)\n",
    "movie1['actor_3_facebook_likes'] = movie1['actor_3_facebook_likes'].astype(np.float32)\n",
    "movie1['actor_1_facebook_likes'] = movie1['actor_1_facebook_likes'].astype(np.float32)\n",
    "movie1['gross'] = movie1['gross'].astype(np.float32)"
   ]
  },
  {
   "cell_type": "code",
   "execution_count": 9,
   "id": "21ecfe9c-108f-4ec1-8d9d-f29fd811e107",
   "metadata": {},
   "outputs": [
    {
     "data": {
      "text/plain": [
       "Index                         128\n",
       "color                      306262\n",
       "director_name              343388\n",
       "num_critic_for_reviews      19664\n",
       "duration                    19664\n",
       "director_facebook_likes     19664\n",
       "actor_3_facebook_likes      19664\n",
       "actor_2_name               346635\n",
       "actor_1_facebook_likes      19664\n",
       "gross                       19664\n",
       "genres                     379929\n",
       "actor_1_name               346599\n",
       "dtype: int64"
      ]
     },
     "execution_count": 9,
     "metadata": {},
     "output_type": "execute_result"
    }
   ],
   "source": [
    "movie1.memory_usage(deep=True)\n",
    "# movie1.describe(include=float).T"
   ]
  },
  {
   "cell_type": "code",
   "execution_count": 10,
   "id": "51603213-ee88-4f59-98f1-60728499fbde",
   "metadata": {},
   "outputs": [
    {
     "data": {
      "text/html": [
       "<div>\n",
       "<style scoped>\n",
       "    .dataframe tbody tr th:only-of-type {\n",
       "        vertical-align: middle;\n",
       "    }\n",
       "\n",
       "    .dataframe tbody tr th {\n",
       "        vertical-align: top;\n",
       "    }\n",
       "\n",
       "    .dataframe thead th {\n",
       "        text-align: right;\n",
       "    }\n",
       "</style>\n",
       "<table border=\"1\" class=\"dataframe\">\n",
       "  <thead>\n",
       "    <tr style=\"text-align: right;\">\n",
       "      <th></th>\n",
       "      <th>count</th>\n",
       "      <th>unique</th>\n",
       "      <th>top</th>\n",
       "      <th>freq</th>\n",
       "    </tr>\n",
       "  </thead>\n",
       "  <tbody>\n",
       "    <tr>\n",
       "      <th>color</th>\n",
       "      <td>4916</td>\n",
       "      <td>3</td>\n",
       "      <td>Color</td>\n",
       "      <td>4693</td>\n",
       "    </tr>\n",
       "    <tr>\n",
       "      <th>director_name</th>\n",
       "      <td>4916</td>\n",
       "      <td>2398</td>\n",
       "      <td>0</td>\n",
       "      <td>102</td>\n",
       "    </tr>\n",
       "    <tr>\n",
       "      <th>actor_2_name</th>\n",
       "      <td>4916</td>\n",
       "      <td>3031</td>\n",
       "      <td>Morgan Freeman</td>\n",
       "      <td>18</td>\n",
       "    </tr>\n",
       "    <tr>\n",
       "      <th>genres</th>\n",
       "      <td>4916</td>\n",
       "      <td>914</td>\n",
       "      <td>Drama</td>\n",
       "      <td>233</td>\n",
       "    </tr>\n",
       "    <tr>\n",
       "      <th>actor_1_name</th>\n",
       "      <td>4916</td>\n",
       "      <td>2096</td>\n",
       "      <td>Robert De Niro</td>\n",
       "      <td>48</td>\n",
       "    </tr>\n",
       "  </tbody>\n",
       "</table>\n",
       "</div>"
      ],
      "text/plain": [
       "              count unique             top  freq\n",
       "color          4916      3           Color  4693\n",
       "director_name  4916   2398               0   102\n",
       "actor_2_name   4916   3031  Morgan Freeman    18\n",
       "genres         4916    914           Drama   233\n",
       "actor_1_name   4916   2096  Robert De Niro    48"
      ]
     },
     "execution_count": 10,
     "metadata": {},
     "output_type": "execute_result"
    }
   ],
   "source": [
    "movie1.describe(include='O').T"
   ]
  },
  {
   "cell_type": "code",
   "execution_count": 11,
   "id": "5720f8fc-27b3-4f8b-b890-df5a91066c59",
   "metadata": {},
   "outputs": [
    {
     "data": {
      "text/plain": [
       "Color              4693\n",
       "Black and White     204\n",
       "0                    19\n",
       "Name: color, dtype: int64"
      ]
     },
     "execution_count": 11,
     "metadata": {},
     "output_type": "execute_result"
    }
   ],
   "source": [
    "movie1.color.value_counts()"
   ]
  },
  {
   "cell_type": "code",
   "execution_count": 12,
   "id": "6fd1f799-0e2e-4d38-a65c-2da72b0abac9",
   "metadata": {},
   "outputs": [
    {
     "data": {
      "text/plain": [
       "Drama                                          233\n",
       "Comedy                                         205\n",
       "Comedy|Drama                                   189\n",
       "Comedy|Drama|Romance                           185\n",
       "Comedy|Romance                                 157\n",
       "                                              ... \n",
       "Crime|Drama|History|Romance                      1\n",
       "Biography|Crime|Documentary|History              1\n",
       "Adventure|Crime|Drama|Mystery|Thriller           1\n",
       "Action|Adventure|Fantasy|War                     1\n",
       "Action|Adventure|Drama|History|Thriller|War      1\n",
       "Name: genres, Length: 914, dtype: int64"
      ]
     },
     "execution_count": 12,
     "metadata": {},
     "output_type": "execute_result"
    }
   ],
   "source": [
    "movie1.genres.value_counts()"
   ]
  },
  {
   "cell_type": "code",
   "execution_count": 13,
   "id": "091a33b4-bdf4-467c-9a29-2022612221a2",
   "metadata": {},
   "outputs": [],
   "source": [
    "movie1['color'] = movie1['color'].astype('category')\n",
    "movie1['genres'] = movie1['genres'].astype('category')"
   ]
  },
  {
   "cell_type": "code",
   "execution_count": 14,
   "id": "71383c0c-baec-40d0-9f32-29482ac9114b",
   "metadata": {},
   "outputs": [
    {
     "data": {
      "text/plain": [
       "Index                         128\n",
       "color                        5190\n",
       "director_name              343388\n",
       "num_critic_for_reviews      19664\n",
       "duration                    19664\n",
       "director_facebook_likes     19664\n",
       "actor_3_facebook_likes      19664\n",
       "actor_2_name               346635\n",
       "actor_1_facebook_likes      19664\n",
       "gross                       19664\n",
       "genres                     121102\n",
       "actor_1_name               346599\n",
       "dtype: int64"
      ]
     },
     "execution_count": 14,
     "metadata": {},
     "output_type": "execute_result"
    }
   ],
   "source": [
    "movie1.memory_usage(deep=True)"
   ]
  },
  {
   "cell_type": "code",
   "execution_count": 15,
   "id": "7ed550f3-cfd1-440e-a267-2a6cc8dec6f7",
   "metadata": {},
   "outputs": [
    {
     "name": "stdout",
     "output_type": "stream",
     "text": [
      "<class 'pandas.core.frame.DataFrame'>\n",
      "RangeIndex: 4916 entries, 0 to 4915\n",
      "Data columns (total 11 columns):\n",
      " #   Column                   Non-Null Count  Dtype   \n",
      "---  ------                   --------------  -----   \n",
      " 0   color                    4916 non-null   category\n",
      " 1   director_name            4916 non-null   object  \n",
      " 2   num_critic_for_reviews   4916 non-null   float32 \n",
      " 3   duration                 4916 non-null   float32 \n",
      " 4   director_facebook_likes  4916 non-null   float32 \n",
      " 5   actor_3_facebook_likes   4916 non-null   float32 \n",
      " 6   actor_2_name             4916 non-null   object  \n",
      " 7   actor_1_facebook_likes   4916 non-null   float32 \n",
      " 8   gross                    4916 non-null   float32 \n",
      " 9   genres                   4916 non-null   category\n",
      " 10  actor_1_name             4916 non-null   object  \n",
      "dtypes: category(2), float32(6), object(3)\n",
      "memory usage: 284.5+ KB\n"
     ]
    }
   ],
   "source": [
    "movie1.info()"
   ]
  },
  {
   "cell_type": "code",
   "execution_count": 16,
   "id": "f51b6ad6-af14-4878-9c03-4af67b267d20",
   "metadata": {},
   "outputs": [],
   "source": [
    "# 422.6 KB   ---------------->   284.5 KB"
   ]
  }
 ],
 "metadata": {
  "kernelspec": {
   "display_name": "Python 3",
   "language": "python",
   "name": "python3"
  },
  "language_info": {
   "codemirror_mode": {
    "name": "ipython",
    "version": 3
   },
   "file_extension": ".py",
   "mimetype": "text/x-python",
   "name": "python",
   "nbconvert_exporter": "python",
   "pygments_lexer": "ipython3",
   "version": "3.8.8"
  }
 },
 "nbformat": 4,
 "nbformat_minor": 5
}
